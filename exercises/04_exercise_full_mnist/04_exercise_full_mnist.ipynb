{
 "cells": [
  {
   "cell_type": "code",
   "execution_count": 1,
   "metadata": {},
   "outputs": [],
   "source": [
    "%load_ext autoreload\n",
    "%autoreload 2\n"
   ]
  },
  {
   "cell_type": "markdown",
   "metadata": {},
   "source": [
    "## Weird fastai magic"
   ]
  },
  {
   "cell_type": "code",
   "execution_count": 2,
   "metadata": {},
   "outputs": [],
   "source": [
    "import fastbook\n",
    "\n",
    "fastbook.setup_book()\n"
   ]
  },
  {
   "cell_type": "markdown",
   "metadata": {},
   "source": [
    "## Device selection"
   ]
  },
  {
   "cell_type": "code",
   "execution_count": 3,
   "metadata": {},
   "outputs": [],
   "source": [
    "import torch\n",
    "\n",
    "gpu = torch.device(\"mps\")\n",
    "cpu = torch.device(\"cpu\")\n",
    "device = cpu\n"
   ]
  },
  {
   "cell_type": "markdown",
   "metadata": {},
   "source": [
    "## Gather MNIST data"
   ]
  },
  {
   "cell_type": "markdown",
   "metadata": {},
   "source": [
    "### Download dataset"
   ]
  },
  {
   "cell_type": "code",
   "execution_count": 4,
   "metadata": {},
   "outputs": [
    {
     "name": "stdout",
     "output_type": "stream",
     "text": [
      "MNIST data downloaded to /Users/david/.fastai/data/mnist_png\n"
     ]
    }
   ],
   "source": [
    "from load_mnist_data import load_mnist_data\n",
    "\n",
    "mnist_path = load_mnist_data()\n"
   ]
  },
  {
   "cell_type": "markdown",
   "metadata": {},
   "source": [
    "### Datasets and DataLoaders"
   ]
  },
  {
   "cell_type": "code",
   "execution_count": 5,
   "metadata": {},
   "outputs": [
    {
     "name": "stdout",
     "output_type": "stream",
     "text": [
      "get_stacked_preprocessed_digits is running for digit: 0, split: DataSplit.TRAINING\n",
      "get_stacked_preprocessed_digits is running for digit: 1, split: DataSplit.TRAINING\n",
      "get_stacked_preprocessed_digits is running for digit: 2, split: DataSplit.TRAINING\n",
      "get_stacked_preprocessed_digits is running for digit: 3, split: DataSplit.TRAINING\n",
      "get_stacked_preprocessed_digits is running for digit: 4, split: DataSplit.TRAINING\n",
      "get_stacked_preprocessed_digits is running for digit: 5, split: DataSplit.TRAINING\n",
      "get_stacked_preprocessed_digits is running for digit: 6, split: DataSplit.TRAINING\n",
      "get_stacked_preprocessed_digits is running for digit: 7, split: DataSplit.TRAINING\n",
      "get_stacked_preprocessed_digits is running for digit: 8, split: DataSplit.TRAINING\n",
      "get_stacked_preprocessed_digits is running for digit: 9, split: DataSplit.TRAINING\n",
      "get_stacked_preprocessed_digits is running for digit: 0, split: DataSplit.TESTING\n",
      "get_stacked_preprocessed_digits is running for digit: 1, split: DataSplit.TESTING\n",
      "get_stacked_preprocessed_digits is running for digit: 2, split: DataSplit.TESTING\n",
      "get_stacked_preprocessed_digits is running for digit: 3, split: DataSplit.TESTING\n",
      "get_stacked_preprocessed_digits is running for digit: 4, split: DataSplit.TESTING\n",
      "get_stacked_preprocessed_digits is running for digit: 5, split: DataSplit.TESTING\n",
      "get_stacked_preprocessed_digits is running for digit: 6, split: DataSplit.TESTING\n",
      "get_stacked_preprocessed_digits is running for digit: 7, split: DataSplit.TESTING\n",
      "get_stacked_preprocessed_digits is running for digit: 8, split: DataSplit.TESTING\n",
      "get_stacked_preprocessed_digits is running for digit: 9, split: DataSplit.TESTING\n"
     ]
    }
   ],
   "source": [
    "from load_mnist_data import IMAGE_SHAPE, DataSplit, labeled_data\n",
    "\n",
    "train_x, train_y = labeled_data(mnist_path, DataSplit.TRAINING, device)\n",
    "valid_x, valid_y = labeled_data(mnist_path, DataSplit.TESTING, device)\n",
    "\n",
    "assert train_x.shape == torch.Size([60_000, IMAGE_SHAPE[0] * IMAGE_SHAPE[1]]), (\n",
    "    \"train_x should be a matrix of 60,000 images, each a vector of flattened pixels\"\n",
    ")\n",
    "assert train_y.shape == torch.Size([60_000]), (\n",
    "    \"train_y should be a vector of 60,000 labels\"\n",
    ")\n",
    "\n",
    "assert valid_x.shape == torch.Size([10_000, IMAGE_SHAPE[0] * IMAGE_SHAPE[1]]), (\n",
    "    \"valid_x should be a matrix of 10,000 images, each a vector of flattened pixels\"\n",
    ")\n",
    "assert valid_y.shape == torch.Size([10_000]), (\n",
    "    \"valid_y should be a vector of 10,000 labels\"\n",
    ")\n"
   ]
  },
  {
   "cell_type": "markdown",
   "metadata": {},
   "source": [
    "A Dataset in PyTorch is required to return a tuple of (x,y) when indexed. \n",
    "It looks like this: $[(x_1,y_1), (x_2,y_2), ... (x_n,y_n)]$"
   ]
  },
  {
   "cell_type": "code",
   "execution_count": 6,
   "metadata": {},
   "outputs": [],
   "source": [
    "train_dataset = list(zip(train_x, train_y))\n",
    "valid_dataset = list(zip(valid_x, valid_y))\n",
    "\n",
    "assert len(train_dataset) == 60_000, \"training_dset should have 60,000 items\"\n",
    "\n",
    "image, label = train_dataset[0]\n",
    "assert image.shape == torch.Size(\n",
    "    [IMAGE_SHAPE[0] * IMAGE_SHAPE[1]]\n",
    ") and label.shape == torch.Size([]), (\n",
    "    \"Each item in a dataset should be a tuple of an image and a label\"\n",
    ")\n"
   ]
  },
  {
   "cell_type": "markdown",
   "metadata": {},
   "source": [
    "Take a look somewhere in a dataset:"
   ]
  },
  {
   "cell_type": "code",
   "execution_count": 7,
   "metadata": {},
   "outputs": [
    {
     "data": {
      "text/plain": [
       "tensor(6)"
      ]
     },
     "execution_count": 7,
     "metadata": {},
     "output_type": "execute_result"
    },
    {
     "data": {
      "image/png": "[encoded data removed]",
      "text/plain": [
       "<Figure size 100x100 with 1 Axes>"
      ]
     },
     "metadata": {},
     "output_type": "display_data"
    }
   ],
   "source": [
    "from fastai.basics import show_image\n",
    "\n",
    "image, label = train_dataset[40_000]\n",
    "\n",
    "show_image(image.view((IMAGE_SHAPE)))\n",
    "label\n"
   ]
  },
  {
   "cell_type": "markdown",
   "metadata": {},
   "source": [
    "When we pass a dataset to a DataLoader we will get back many batches that are themselves tuples of tensors representing collections of independent and dependent variables."
   ]
  },
  {
   "cell_type": "code",
   "execution_count": 8,
   "metadata": {},
   "outputs": [],
   "source": [
    "from fastai.basics import first\n",
    "from fastai.data.load import DataLoader\n",
    "\n",
    "# A dataloader with a tiny batch size for playing around\n",
    "toy_dataloader = DataLoader(train_dataset, batch_size=2, shuffle=True)\n"
   ]
  },
  {
   "cell_type": "markdown",
   "metadata": {},
   "source": [
    "Each training batch is a tuple of two tensors:"
   ]
  },
  {
   "cell_type": "code",
   "execution_count": 9,
   "metadata": {},
   "outputs": [],
   "source": [
    "first_training_batch = first(toy_dataloader)\n",
    "\n",
    "assert isinstance(first_training_batch, tuple), \"first_training_batch should be a tuple\"\n",
    "assert len(first_training_batch) == 2, \"first_training_batch should have length 2\"\n"
   ]
  },
  {
   "cell_type": "markdown",
   "metadata": {},
   "source": [
    "The first element is a tensor of images and the second is a tensor of labels. Both have the same length, which corresponds to the `batch_size` passed to the `DataLoader` constructor above."
   ]
  },
  {
   "cell_type": "code",
   "execution_count": 10,
   "metadata": {},
   "outputs": [],
   "source": [
    "images, labels = first_training_batch\n",
    "assert images.shape == torch.Size([2, IMAGE_SHAPE[0] * IMAGE_SHAPE[1]])\n",
    "assert labels.shape == torch.Size([2])\n"
   ]
  },
  {
   "cell_type": "markdown",
   "metadata": {},
   "source": [
    "The first image and label in the batch:"
   ]
  },
  {
   "cell_type": "code",
   "execution_count": 11,
   "metadata": {},
   "outputs": [
    {
     "data": {
      "text/plain": [
       "tensor(2)"
      ]
     },
     "execution_count": 11,
     "metadata": {},
     "output_type": "execute_result"
    },
    {
     "data": {
      "image/png": "[encoded data removed]",
      "text/plain": [
       "<Figure size 100x100 with 1 Axes>"
      ]
     },
     "metadata": {},
     "output_type": "display_data"
    }
   ],
   "source": [
    "show_image(first(images).view(IMAGE_SHAPE))\n",
    "first(labels)\n"
   ]
  },
  {
   "cell_type": "markdown",
   "metadata": {},
   "source": [
    "### Turning labels into targets"
   ]
  },
  {
   "cell_type": "code",
   "execution_count": 12,
   "metadata": {},
   "outputs": [],
   "source": [
    "from torch import Tensor\n",
    "from torch.nn.functional import one_hot\n",
    "\n",
    "\n",
    "def encode_one_hot_targets(labels: Tensor, num_classes=10) -> Tensor:\n",
    "    return one_hot(labels, num_classes).float()\n"
   ]
  },
  {
   "cell_type": "markdown",
   "metadata": {},
   "source": [
    "## As a \"manual\" linear model"
   ]
  },
  {
   "cell_type": "markdown",
   "metadata": {},
   "source": [
    "### Initialize parameters"
   ]
  },
  {
   "cell_type": "markdown",
   "metadata": {},
   "source": [
    "In the book the model has to differentiate between 2 digits, so the model has a single output. 0.0 is used as some kind of threshold: any values greater than 0 represent a prediction for one digit, the others represent the other digit. For this 2-digit model, `train_y` is a vector of 1s for one digit and 0s for the other digit. (And then unsqueezed to a second dimension of size 1).\n",
    "\n",
    "0 is at the center of the model outputs distribution, then they switch it to 0.5 (that is, all values between 0 and 1) using **sigmoid**.\n",
    "\n",
    "I want to switch the model from having one input $y_1$ (probability of input being digit a, and $y_2=1-y_1$) to 10 outputs, each corresponding to the probability of\n",
    "the input matching a particular digit. The combined probabilities will be normalized to add to 1."
   ]
  },
  {
   "cell_type": "code",
   "execution_count": 13,
   "metadata": {},
   "outputs": [],
   "source": [
    "count_outputs = 10\n"
   ]
  },
  {
   "cell_type": "code",
   "execution_count": 14,
   "metadata": {},
   "outputs": [],
   "source": [
    "from model import init_params\n",
    "\n",
    "weights = init_params((IMAGE_SHAPE[0] * IMAGE_SHAPE[1], count_outputs), device)\n",
    "biases = init_params(count_outputs, device)\n"
   ]
  },
  {
   "cell_type": "markdown",
   "metadata": {},
   "source": [
    "### The forward computation"
   ]
  },
  {
   "cell_type": "markdown",
   "metadata": {},
   "source": [
    "How I think the `batch @ weights + bias`, equation operates in a linear model with 10 outputs: it has 10 sets of parameters and 10 biases. So I'm imagining it's just that equation once per output, with the same input data, independently and in parallel."
   ]
  },
  {
   "cell_type": "markdown",
   "metadata": {},
   "source": [
    "#### Run it once for a single image"
   ]
  },
  {
   "cell_type": "code",
   "execution_count": 15,
   "metadata": {},
   "outputs": [
    {
     "name": "stdout",
     "output_type": "stream",
     "text": [
      "Shape of the first image: torch.Size([784])\n",
      "Shape of transposed weights: torch.Size([10, 784])\n",
      "Shape of element-wise multiplication: torch.Size([10, 784])\n",
      "Shape of model result: torch.Size([10])\n",
      "Model result: tensor([-8.6374, -8.6943, -8.6855, -8.6645, -8.1637, -8.4328, -8.4474, -8.6370, -8.6553, -8.3612], grad_fn=<AddBackward0>)\n"
     ]
    }
   ],
   "source": [
    "first_image = train_x[0]\n",
    "print(f\"Shape of the first image: {first_image.shape}\")\n",
    "\n",
    "# the T is transpose, flipping weights from [784, count_outputs] to [count_outputs, 784]\n",
    "transposed_weights = weights.T\n",
    "print(f\"Shape of transposed weights: {transposed_weights.shape}\")\n",
    "\n",
    "element_wise_product = first_image * transposed_weights\n",
    "print(f\"Shape of element-wise multiplication: {element_wise_product.shape}\")\n",
    "\n",
    "model_result = element_wise_product.sum() + biases\n",
    "print(f\"Shape of model result: {model_result.shape}\")\n",
    "print(f\"Model result: {model_result}\")\n"
   ]
  },
  {
   "cell_type": "markdown",
   "metadata": {},
   "source": [
    "#### Run it once for a batch data using broadcasting (no loops!)"
   ]
  },
  {
   "cell_type": "code",
   "execution_count": 16,
   "metadata": {},
   "outputs": [
    {
     "name": "stdout",
     "output_type": "stream",
     "text": [
      "Shape of batch: torch.Size([60000, 784])\n",
      "Shape of weights: torch.Size([784, 10])\n",
      "Shape of bias: torch.Size([10])\n",
      "Shape of results: torch.Size([60000, 10])\n"
     ]
    }
   ],
   "source": [
    "input = train_x  # the whole dataset -- it still feels instantaneous\n",
    "\n",
    "print(f\"Shape of batch: {input.shape}\")\n",
    "print(f\"Shape of weights: {weights.shape}\")\n",
    "print(f\"Shape of bias: {biases.shape}\")\n",
    "\n",
    "\n",
    "# Here is one of the two magic equations (the other one is the activation\n",
    "# function), equivalent to doing the run above but for each image in the batch\n",
    "# (in this case the full training set).\n",
    "model_result = input @ weights + biases\n",
    "\n",
    "print(f\"Shape of results: {model_result.shape}\")\n"
   ]
  },
  {
   "cell_type": "markdown",
   "metadata": {},
   "source": [
    "## Intuition about loss"
   ]
  },
  {
   "cell_type": "code",
   "execution_count": 17,
   "metadata": {},
   "outputs": [],
   "source": [
    "from fastai.torch_core import tensor\n",
    "from torch.nn.functional import cross_entropy\n",
    "from training import calculate_loss\n",
    "\n",
    "_targets = tensor(\n",
    "    [\n",
    "        [1, 0, 0],\n",
    "        [0, 0, 1],\n",
    "    ],\n",
    "    dtype=torch.float,\n",
    "    device=device,\n",
    ")\n",
    "\n",
    "_preds_worse = tensor(\n",
    "    [\n",
    "        [0.3, 0.5, 0.2],\n",
    "        [0.7, 0.1, 0.2],\n",
    "    ],\n",
    "    dtype=torch.float,\n",
    "    device=device,\n",
    ")\n",
    "\n",
    "_preds_better = tensor(\n",
    "    [\n",
    "        [0.4, 0.5, 0.1],\n",
    "        [0.6, 0.1, 0.3],\n",
    "    ],\n",
    "    dtype=torch.float,\n",
    "    device=device,\n",
    ")\n",
    "\n",
    "assert calculate_loss(_preds_worse, _targets) == 0.7 + 0.8, \"wrong loss calculation\"\n",
    "assert calculate_loss(_preds_better, _targets) == 0.6 + 0.7, \"wrong loss calculation\"\n",
    "assert calculate_loss(_preds_worse, _targets) > calculate_loss(\n",
    "    _preds_better, _targets\n",
    "), \"wrong loss comparison (calculate_loss)\"\n",
    "\n",
    "assert cross_entropy(_preds_worse, _targets) > cross_entropy(_preds_better, _targets), (\n",
    "    \"wrong loss comparison (cross-entropy)\"\n",
    ")\n"
   ]
  },
  {
   "cell_type": "markdown",
   "metadata": {},
   "source": [
    "## Train"
   ]
  },
  {
   "cell_type": "code",
   "execution_count": 18,
   "metadata": {},
   "outputs": [
    {
     "data": {
      "image/svg+xml": [
       "<?xml version=\"1.0\" encoding=\"UTF-8\" standalone=\"no\"?>\n",
       "<!DOCTYPE svg PUBLIC \"-//W3C//DTD SVG 1.1//EN\"\n",
       " \"http://www.w3.org/Graphics/SVG/1.1/DTD/svg11.dtd\">\n",
       "<!-- Generated by graphviz version 12.2.1 (20241206.2353)\n",
       " -->\n",
       "<!-- Title: G Pages: 1 -->\n",
       "<svg width=\"596pt\" height=\"78pt\"\n",
       " viewBox=\"0.00 0.00 596.25 78.00\" xmlns=\"http://www.w3.org/2000/svg\" xmlns:xlink=\"http://www.w3.org/1999/xlink\">\n",
       "<g id=\"graph0\" class=\"graph\" transform=\"scale(1 1) rotate(0) translate(4 74)\">\n",
       "<title>G</title>\n",
       "<polygon fill=\"white\" stroke=\"none\" points=\"-4,4 -4,-74 592.25,-74 592.25,4 -4,4\"/>\n",
       "<!-- init -->\n",
       "<g id=\"node1\" class=\"node\">\n",
       "<title>init</title>\n",
       "<ellipse fill=\"none\" stroke=\"black\" cx=\"27\" cy=\"-18\" rx=\"27\" ry=\"18\"/>\n",
       "<text text-anchor=\"middle\" x=\"27\" y=\"-12.95\" font-family=\"Times,serif\" font-size=\"14.00\">init</text>\n",
       "</g>\n",
       "<!-- predict -->\n",
       "<g id=\"node2\" class=\"node\">\n",
       "<title>predict</title>\n",
       "<ellipse fill=\"none\" stroke=\"black\" cx=\"127.51\" cy=\"-18\" rx=\"36.51\" ry=\"18\"/>\n",
       "<text text-anchor=\"middle\" x=\"127.51\" y=\"-12.95\" font-family=\"Times,serif\" font-size=\"14.00\">predict</text>\n",
       "</g>\n",
       "<!-- init&#45;&gt;predict -->\n",
       "<g id=\"edge1\" class=\"edge\">\n",
       "<title>init&#45;&gt;predict</title>\n",
       "<path fill=\"none\" stroke=\"black\" d=\"M54.4,-18C62.17,-18 70.91,-18 79.55,-18\"/>\n",
       "<polygon fill=\"black\" stroke=\"black\" points=\"79.26,-21.5 89.26,-18 79.26,-14.5 79.26,-21.5\"/>\n",
       "</g>\n",
       "<!-- loss -->\n",
       "<g id=\"node3\" class=\"node\">\n",
       "<title>loss</title>\n",
       "<ellipse fill=\"none\" stroke=\"black\" cx=\"228.02\" cy=\"-52\" rx=\"27\" ry=\"18\"/>\n",
       "<text text-anchor=\"middle\" x=\"228.02\" y=\"-46.95\" font-family=\"Times,serif\" font-size=\"14.00\">loss</text>\n",
       "</g>\n",
       "<!-- predict&#45;&gt;loss -->\n",
       "<g id=\"edge2\" class=\"edge\">\n",
       "<title>predict&#45;&gt;loss</title>\n",
       "<path fill=\"none\" stroke=\"black\" d=\"M158.06,-28.2C168.95,-31.96 181.36,-36.24 192.63,-40.13\"/>\n",
       "<polygon fill=\"black\" stroke=\"black\" points=\"191.4,-43.41 201.99,-43.36 193.68,-36.79 191.4,-43.41\"/>\n",
       "</g>\n",
       "<!-- gradient -->\n",
       "<g id=\"node4\" class=\"node\">\n",
       "<title>gradient</title>\n",
       "<ellipse fill=\"none\" stroke=\"black\" cx=\"365.13\" cy=\"-52\" rx=\"41.12\" ry=\"18\"/>\n",
       "<text text-anchor=\"middle\" x=\"365.13\" y=\"-46.95\" font-family=\"Times,serif\" font-size=\"14.00\">gradient</text>\n",
       "</g>\n",
       "<!-- loss&#45;&gt;gradient -->\n",
       "<g id=\"edge3\" class=\"edge\">\n",
       "<title>loss&#45;&gt;gradient</title>\n",
       "<path fill=\"none\" stroke=\"black\" d=\"M255.39,-52C271.56,-52 292.81,-52 312.24,-52\"/>\n",
       "<polygon fill=\"black\" stroke=\"black\" points=\"312.21,-55.5 322.21,-52 312.21,-48.5 312.21,-55.5\"/>\n",
       "</g>\n",
       "<!-- step -->\n",
       "<g id=\"node5\" class=\"node\">\n",
       "<title>step</title>\n",
       "<ellipse fill=\"none\" stroke=\"black\" cx=\"470.25\" cy=\"-18\" rx=\"27\" ry=\"18\"/>\n",
       "<text text-anchor=\"middle\" x=\"470.25\" y=\"-12.95\" font-family=\"Times,serif\" font-size=\"14.00\">step</text>\n",
       "</g>\n",
       "<!-- gradient&#45;&gt;step -->\n",
       "<g id=\"edge4\" class=\"edge\">\n",
       "<title>gradient&#45;&gt;step</title>\n",
       "<path fill=\"none\" stroke=\"black\" d=\"M398.76,-41.24C410.3,-37.44 423.3,-33.15 434.97,-29.3\"/>\n",
       "<polygon fill=\"black\" stroke=\"black\" points=\"435.82,-32.71 444.22,-26.25 433.63,-26.06 435.82,-32.71\"/>\n",
       "</g>\n",
       "<!-- step&#45;&gt;predict -->\n",
       "<g id=\"edge6\" class=\"edge\">\n",
       "<title>step&#45;&gt;predict</title>\n",
       "<path fill=\"none\" stroke=\"black\" d=\"M443.04,-18C385.63,-18 248.13,-18 175.42,-18\"/>\n",
       "<polygon fill=\"black\" stroke=\"black\" points=\"175.84,-14.5 165.84,-18 175.84,-21.5 175.84,-14.5\"/>\n",
       "<text text-anchor=\"middle\" x=\"289.52\" y=\"-21.2\" font-family=\"Times,serif\" font-size=\"14.00\">repeat</text>\n",
       "</g>\n",
       "<!-- stop -->\n",
       "<g id=\"node6\" class=\"node\">\n",
       "<title>stop</title>\n",
       "<ellipse fill=\"none\" stroke=\"black\" cx=\"561.25\" cy=\"-18\" rx=\"27\" ry=\"18\"/>\n",
       "<text text-anchor=\"middle\" x=\"561.25\" y=\"-12.95\" font-family=\"Times,serif\" font-size=\"14.00\">stop</text>\n",
       "</g>\n",
       "<!-- step&#45;&gt;stop -->\n",
       "<g id=\"edge5\" class=\"edge\">\n",
       "<title>step&#45;&gt;stop</title>\n",
       "<path fill=\"none\" stroke=\"black\" d=\"M497.47,-18C505.37,-18 514.19,-18 522.67,-18\"/>\n",
       "<polygon fill=\"black\" stroke=\"black\" points=\"522.39,-21.5 532.39,-18 522.39,-14.5 522.39,-21.5\"/>\n",
       "</g>\n",
       "</g>\n",
       "</svg>\n"
      ],
      "text/plain": [
       "<graphviz.sources.Source at 0x361a745b0>"
      ]
     },
     "execution_count": 18,
     "metadata": {},
     "output_type": "execute_result"
    }
   ],
   "source": [
    "from fastbook import gv\n",
    "\n",
    "gv(\"\"\"\n",
    "init->predict->loss->gradient->step->stop\n",
    "step->predict[label=repeat]\n",
    "\"\"\")\n"
   ]
  },
  {
   "cell_type": "markdown",
   "metadata": {},
   "source": [
    "#### Instantiate the model\n"
   ]
  },
  {
   "cell_type": "code",
   "execution_count": 19,
   "metadata": {},
   "outputs": [],
   "source": [
    "from model import Linear, ReLU, Sequential\n",
    "\n",
    "intermediate_features = 32\n",
    "model = Sequential(\n",
    "    [\n",
    "        Linear(\n",
    "            in_features=IMAGE_SHAPE[0] * IMAGE_SHAPE[1],\n",
    "            out_features=intermediate_features,\n",
    "            init_params_function=init_params,\n",
    "            device=device,\n",
    "        ),\n",
    "        ReLU(device=device),\n",
    "        Linear(\n",
    "            in_features=intermediate_features,\n",
    "            out_features=count_outputs,\n",
    "            init_params_function=init_params,\n",
    "            device=device,\n",
    "        ),\n",
    "    ]\n",
    ")\n"
   ]
  },
  {
   "cell_type": "markdown",
   "metadata": {},
   "source": [
    "#### Run the training"
   ]
  },
  {
   "cell_type": "code",
   "execution_count": 20,
   "metadata": {},
   "outputs": [
    {
     "name": "stdout",
     "output_type": "stream",
     "text": [
      "Time=0.24s, epoch: 0, accuracy: 0.09440000355243683\n",
      "Time=21.93s, epoch: 100, accuracy: 0.4821999967098236\n",
      "Time=44.33s, epoch: 200, accuracy: 0.5713000297546387\n",
      "Time=65.86s, epoch: 300, accuracy: 0.6097000241279602\n",
      "Time=87.76s, epoch: 400, accuracy: 0.6330000162124634\n",
      "Time=109.22s, epoch: 500, accuracy: 0.6480000019073486\n",
      "Time=130.74s, epoch: 600, accuracy: 0.6603000164031982\n",
      "Time=152.24s, epoch: 700, accuracy: 0.6697999835014343\n",
      "Time=173.71s, epoch: 800, accuracy: 0.6777999997138977\n",
      "Time=195.26s, epoch: 900, accuracy: 0.6873999834060669\n"
     ]
    }
   ],
   "source": [
    "import time\n",
    "\n",
    "from fastai import optimizer\n",
    "from normalize import normalize_log_softmax\n",
    "from torch.nn.functional import cross_entropy\n",
    "from training import train_model\n",
    "\n",
    "start_time = time.time()\n",
    "\n",
    "# train_data = (\n",
    "#     train_x,\n",
    "#     encode_one_hot_targets(train_y),\n",
    "# )\n",
    "\n",
    "train_data = DataLoader(train_dataset, batch_size=256, shuffle=True, device=device)\n",
    "\n",
    "valid_data = (valid_x, encode_one_hot_targets(valid_y))\n",
    "\n",
    "accuracies = list()\n",
    "\n",
    "learning_rate = 0.0001\n",
    "epochs = 1000\n",
    "\n",
    "for epoch, acc in train_model(\n",
    "    train_data,\n",
    "    valid_data,\n",
    "    model,\n",
    "    normalizer=normalize_log_softmax,\n",
    "    loss_function=cross_entropy,\n",
    "    optimizer=optimizer.SGD(params=model.params(), lr=learning_rate),\n",
    "    epochs=epochs,\n",
    "):\n",
    "    elapsed = time.time() - start_time\n",
    "    accuracies.append(acc)\n",
    "    if epoch % 100 == 0:\n",
    "        print(f\"Time={elapsed:.2f}s, epoch: {epoch}, accuracy: {acc}\")\n"
   ]
  },
  {
   "cell_type": "code",
   "execution_count": 21,
   "metadata": {},
   "outputs": [
    {
     "data": {
      "image/png": "[encoded data removed]",
      "text/plain": [
       "<Figure size 640x480 with 1 Axes>"
      ]
     },
     "metadata": {},
     "output_type": "display_data"
    }
   ],
   "source": [
    "from training import plot_accuracies\n",
    "\n",
    "plot_accuracies(accuracies)\n"
   ]
  },
  {
   "cell_type": "code",
   "execution_count": 22,
   "metadata": {},
   "outputs": [],
   "source": [
    "from notify_complete import notify_complete\n",
    "\n",
    "notify_complete()\n"
   ]
  },
  {
   "cell_type": "markdown",
   "metadata": {},
   "source": [
    "Questions after all of this:\n",
    "- How to choose the number of intermediate features?\n",
    "- How to play with LRs? Should the LR vary within a training run? With which shape? Is a smaller LR always more conductive to correct learning, even if it takes longer, or is it more likely to get stuck in a local minimum?\n",
    "- What is the effect of batch sizes on learning? What are the trade offs? \n",
    "- How to saturate the GPU? How to profile bottlenecks?\n",
    "- Speaking of which, what's the deal with `DataLoader`? Why so slow?\n",
    "- How does batching help with learning (not only with speed)?\n",
    "- I'm bruteforcing the epochs. . .\n",
    "- Use `DataLoader` anyway, on the CPU?"
   ]
  }
 ],
 "metadata": {
  "kernelspec": {
   "display_name": "fastbook",
   "language": "python",
   "name": "python3"
  },
  "language_info": {
   "codemirror_mode": {
    "name": "ipython",
    "version": 3
   },
   "file_extension": ".py",
   "mimetype": "text/x-python",
   "name": "python",
   "nbconvert_exporter": "python",
   "pygments_lexer": "ipython3",
   "version": "3.9.21"
  }
 },
 "nbformat": 4,
 "nbformat_minor": 2
}

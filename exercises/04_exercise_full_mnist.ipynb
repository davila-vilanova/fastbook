{
 "cells": [
  {
   "cell_type": "code",
   "execution_count": 1,
   "metadata": {},
   "outputs": [],
   "source": [
    "import fastbook\n",
    "\n",
    "fastbook.setup_book()"
   ]
  },
  {
   "cell_type": "code",
   "execution_count": 2,
   "metadata": {},
   "outputs": [],
   "source": [
    "import torch\n",
    "\n",
    "gpu = torch.device(\"mps\")\n",
    "cpu = torch.device(\"cpu\")\n",
    "device = gpu"
   ]
  },
  {
   "cell_type": "markdown",
   "metadata": {},
   "source": [
    "## Gather MNIST data"
   ]
  },
  {
   "cell_type": "markdown",
   "metadata": {},
   "source": [
    "### Download dataset"
   ]
  },
  {
   "cell_type": "code",
   "execution_count": 3,
   "metadata": {},
   "outputs": [
    {
     "name": "stdout",
     "output_type": "stream",
     "text": [
      "MNIST data downloaded to /Users/david/.fastai/data/mnist_png\n"
     ]
    }
   ],
   "source": [
    "from pathlib import Path\n",
    "\n",
    "from fastai.data.external import URLs, untar_data\n",
    "\n",
    "path = untar_data(URLs.MNIST)\n",
    "print(f\"MNIST data downloaded to {path}\")\n",
    "# Path.BASE_PATH = path"
   ]
  },
  {
   "cell_type": "markdown",
   "metadata": {},
   "source": [
    "### Define how to access images from training and testing datasets"
   ]
  },
  {
   "cell_type": "code",
   "execution_count": 4,
   "metadata": {},
   "outputs": [],
   "source": [
    "from enum import Enum\n",
    "from typing import List, Literal\n",
    "\n",
    "Digit = Literal[0, 1, 2, 3, 4, 5, 6, 7, 8, 9]\n",
    "\n",
    "\n",
    "class DataSplit(Enum):\n",
    "    TRAINING = \"training\"\n",
    "    TESTING = \"testing\"\n",
    "\n",
    "\n",
    "def get_digit_file_paths(digit: Digit, datasplit: DataSplit) -> List[Path]:\n",
    "    return list((path / datasplit.value / str(digit)).ls().sorted())\n"
   ]
  },
  {
   "cell_type": "markdown",
   "metadata": {},
   "source": [
    "#### Peek into the images before turning them into tensors"
   ]
  },
  {
   "cell_type": "code",
   "execution_count": 5,
   "metadata": {},
   "outputs": [
    {
     "name": "stdout",
     "output_type": "stream",
     "text": [
      "Image shape is (28, 28)\n"
     ]
    },
    {
     "data": {
      "image/jpeg": "[encoded data removed]",
      "image/png": "[encoded data removed]",
      "text/plain": [
       "<PIL.PngImagePlugin.PngImageFile image mode=L size=28x28>"
      ]
     },
     "execution_count": 5,
     "metadata": {},
     "output_type": "execute_result"
    }
   ],
   "source": [
    "from PIL import Image\n",
    "\n",
    "im4 = Image.open(get_digit_file_paths(4, DataSplit.TRAINING)[0])\n",
    "print(f\"Image shape is {im4.shape}\")\n",
    "im4"
   ]
  },
  {
   "cell_type": "markdown",
   "metadata": {},
   "source": [
    "#### Images as tensors"
   ]
  },
  {
   "cell_type": "code",
   "execution_count": 6,
   "metadata": {},
   "outputs": [],
   "source": [
    "from functools import cache\n",
    "\n",
    "from fastai.torch_core import tensor\n",
    "\n",
    "\n",
    "@cache\n",
    "def get_digit_tensors(digit: Digit, datasplit: DataSplit) -> List[tensor]:\n",
    "    \"\"\"Gets all tensor images for the given digit in the specified DataSet.\"\"\"\n",
    "    return [tensor(Image.open(path), device=device) for path in get_digit_file_paths(digit, datasplit)]\n"
   ]
  },
  {
   "cell_type": "code",
   "execution_count": 7,
   "metadata": {},
   "outputs": [
    {
     "data": {
      "text/plain": [
       "<Axes: >"
      ]
     },
     "execution_count": 7,
     "metadata": {},
     "output_type": "execute_result"
    },
    {
     "data": {
      "image/png": "[encoded data removed]",
      "text/plain": [
       "<Figure size 100x100 with 1 Axes>"
      ]
     },
     "metadata": {},
     "output_type": "display_data"
    }
   ],
   "source": [
    "from fastai.torch_core import show_image\n",
    "\n",
    "show_image(get_digit_tensors(3, DataSplit.TRAINING)[1])"
   ]
  },
  {
   "cell_type": "markdown",
   "metadata": {},
   "source": [
    "## Utilities"
   ]
  },
  {
   "cell_type": "markdown",
   "metadata": {},
   "source": [
    "### Ensuring tensor shape"
   ]
  },
  {
   "cell_type": "code",
   "execution_count": 8,
   "metadata": {},
   "outputs": [],
   "source": [
    "from typing import Final, Tuple\n",
    "\n",
    "from torch import Tensor\n",
    "\n",
    "IMAGE_SHAPE: Final[Tuple[int, int]] = (28, 28)\n",
    "\n",
    "\n",
    "class EmptyInputError(Exception):\n",
    "    pass\n",
    "\n",
    "\n",
    "class TensorShapeError(Exception):\n",
    "    def __init__(self, message: str, offending_tensor: Tensor):\n",
    "        self.offending_tensor = offending_tensor\n",
    "        super().__init__(message)\n",
    "\n",
    "\n",
    "def ensure_shape(tensor: Tensor, expected: Tuple[int, ...]) -> tensor:\n",
    "    \"\"\"Validates tensor shape matches expected dimensions. Use -1 for 'any'.\"\"\"\n",
    "    if len(tensor.shape) != len(expected):\n",
    "        raise TensorShapeError(\n",
    "            \"Tensor shape and expected shape must have the \"\n",
    "            \"same number of dimensions. \"\n",
    "            f\"Got {len(tensor.shape)} and {len(expected)}.\",\n",
    "            tensor,\n",
    "        )\n",
    "    for actual, expected in zip(tensor.shape, expected):\n",
    "        if expected == -1:\n",
    "            continue\n",
    "        if actual != expected:\n",
    "            raise TensorShapeError(\n",
    "                f\"Expected shape {expected}, got {tensor.shape}\", tensor\n",
    "            )\n",
    "    return tensor\n"
   ]
  },
  {
   "cell_type": "markdown",
   "metadata": {},
   "source": [
    "### Adjusting pixel values to 0...1 floats"
   ]
  },
  {
   "cell_type": "code",
   "execution_count": 9,
   "metadata": {},
   "outputs": [],
   "source": [
    "def normalize_pixel_data(input: Tensor) -> Tensor:\n",
    "    \"\"\"Probably not a good name. Takes a tensor of image data with pixel values\n",
    "    between 0 and 255 and returns a tensor with float values between 0 and 1\"\"\"\n",
    "    return input.float() / 255"
   ]
  },
  {
   "cell_type": "markdown",
   "metadata": {},
   "source": [
    "### Stacking tensor images"
   ]
  },
  {
   "cell_type": "code",
   "execution_count": 10,
   "metadata": {},
   "outputs": [],
   "source": [
    "from typing import Sequence\n",
    "\n",
    "\n",
    "def stack_image_tensors(image_tensors: Sequence[tensor]) -> Tensor:\n",
    "    \"\"\"Takes a sequence of MNIST digit image tensors and returns a single tensor\n",
    "    whose first dimension refers to each of the images.\"\"\"\n",
    "\n",
    "    if len(image_tensors) == 0:\n",
    "        raise EmptyInputError(\n",
    "            \"The input sequence of tensors must have at least one element.\"\n",
    "        )\n",
    "\n",
    "    for t in image_tensors:\n",
    "        ensure_shape(t, IMAGE_SHAPE)\n",
    "\n",
    "    # It may be silly to wrap this in a function, but doing so adds some semantics\n",
    "    # and checks that the input has the expected shape.\n",
    "    stacked = torch.stack(image_tensors)\n",
    "\n",
    "    # This should never raise, so it just documents what I'm expecting.\n",
    "    ensure_shape(stacked, (-1,) + IMAGE_SHAPE)\n",
    "    return stacked\n",
    "\n",
    "@cache\n",
    "def get_stacked_preprocessed_digits(digit: Digit, datasplit: DataSplit) -> Tensor:\n",
    "    \"\"\"Gets all images for a given digit in the specified datasplit, stacked in a\n",
    "    single tensor and normalized.\"\"\"\n",
    "    print(f\"get_stacked_preprocessed_digits is running for digit: {digit}, split: {datasplit}\")\n",
    "    return normalize_pixel_data(stack_image_tensors(get_digit_tensors(digit, datasplit)))"
   ]
  },
  {
   "cell_type": "code",
   "execution_count": 11,
   "metadata": {},
   "outputs": [],
   "source": [
    "#| test\n",
    "def test_stacked_threes():\n",
    "    stacked_training_threes = stack_image_tensors(get_digit_tensors(3, DataSplit.TRAINING))\n",
    "    # A stacked tensor of threes is rank-3 with ~6k images, each of which is 28 x 28 pixels.\n",
    "    assert(stacked_training_threes.shape == (6131,) + IMAGE_SHAPE)"
   ]
  },
  {
   "cell_type": "code",
   "execution_count": 12,
   "metadata": {},
   "outputs": [
    {
     "data": {
      "text/plain": [
       "<Axes: >"
      ]
     },
     "execution_count": 12,
     "metadata": {},
     "output_type": "execute_result"
    },
    {
     "data": {
      "image/png": "[encoded data removed]",
      "text/plain": [
       "<Figure size 100x100 with 1 Axes>"
      ]
     },
     "metadata": {},
     "output_type": "display_data"
    }
   ],
   "source": [
    "test_stacked_threes()\n",
    "show_image(stack_image_tensors(get_digit_tensors(3, DataSplit.TRAINING))[1])"
   ]
  },
  {
   "cell_type": "markdown",
   "metadata": {},
   "source": [
    "## Baseline: Pixel Similarity"
   ]
  },
  {
   "cell_type": "markdown",
   "metadata": {},
   "source": [
    "### Calculating the mean digit images"
   ]
  },
  {
   "cell_type": "code",
   "execution_count": 13,
   "metadata": {},
   "outputs": [],
   "source": [
    "def mean_image(stacked_images: Tensor) -> Tensor:\n",
    "    \"\"\"Calculates the \"ideal\" digit image, composed of the mean pixel values from\n",
    "    each of the images in the first (0) dimension in the `stacked_images` argument.\"\"\"\n",
    "    ensure_shape(stacked_images, (-1,) + IMAGE_SHAPE)\n",
    "    mean = torch.mean(\n",
    "        stacked_images, 0, dtype=torch.float32\n",
    "    )  # why can't pytorch infer the dtype?\n",
    "    ensure_shape(mean, IMAGE_SHAPE)\n",
    "    return mean\n",
    "\n",
    "\n",
    "@cache\n",
    "def mean_digit_image(digit: Digit, datasplit: DataSplit) -> Tensor:\n",
    "    \"\"\"Gets an averaged image for a given digit in a specified DataSet.\"\"\"\n",
    "    return mean_image(get_stacked_preprocessed_digits(digit, datasplit))\n",
    "\n",
    "\n",
    "def mean_digit_images(datasplit: DataSplit) -> Tensor:\n",
    "    \"\"\"Returns the averaged image for each digit for the specified DataSet.\"\"\"\n",
    "    return torch.stack([mean_digit_image(digit, datasplit) for digit in range(0, 10)])\n"
   ]
  },
  {
   "cell_type": "code",
   "execution_count": 14,
   "metadata": {},
   "outputs": [
    {
     "name": "stdout",
     "output_type": "stream",
     "text": [
      "get_stacked_preprocessed_digits is running for digit: 0, split: DataSplit.TRAINING\n",
      "get_stacked_preprocessed_digits is running for digit: 1, split: DataSplit.TRAINING\n",
      "get_stacked_preprocessed_digits is running for digit: 2, split: DataSplit.TRAINING\n",
      "get_stacked_preprocessed_digits is running for digit: 3, split: DataSplit.TRAINING\n",
      "get_stacked_preprocessed_digits is running for digit: 4, split: DataSplit.TRAINING\n",
      "get_stacked_preprocessed_digits is running for digit: 5, split: DataSplit.TRAINING\n",
      "get_stacked_preprocessed_digits is running for digit: 6, split: DataSplit.TRAINING\n",
      "get_stacked_preprocessed_digits is running for digit: 7, split: DataSplit.TRAINING\n",
      "get_stacked_preprocessed_digits is running for digit: 8, split: DataSplit.TRAINING\n",
      "get_stacked_preprocessed_digits is running for digit: 9, split: DataSplit.TRAINING\n"
     ]
    },
    {
     "data": {
      "image/png": "[encoded data removed]",
      "text/plain": [
       "<Figure size 100x100 with 1 Axes>"
      ]
     },
     "metadata": {},
     "output_type": "display_data"
    },
    {
     "data": {
      "image/png": "[encoded data removed]",
      "text/plain": [
       "<Figure size 100x100 with 1 Axes>"
      ]
     },
     "metadata": {},
     "output_type": "display_data"
    },
    {
     "data": {
      "image/png": "[encoded data removed]",
      "text/plain": [
       "<Figure size 100x100 with 1 Axes>"
      ]
     },
     "metadata": {},
     "output_type": "display_data"
    },
    {
     "data": {
      "image/png": "[encoded data removed]",
      "text/plain": [
       "<Figure size 100x100 with 1 Axes>"
      ]
     },
     "metadata": {},
     "output_type": "display_data"
    },
    {
     "data": {
      "image/png": "[encoded data removed]",
      "text/plain": [
       "<Figure size 100x100 with 1 Axes>"
      ]
     },
     "metadata": {},
     "output_type": "display_data"
    },
    {
     "data": {
      "image/png": "[encoded data removed]",
      "text/plain": [
       "<Figure size 100x100 with 1 Axes>"
      ]
     },
     "metadata": {},
     "output_type": "display_data"
    },
    {
     "data": {
      "image/png": "[encoded data removed]",
      "text/plain": [
       "<Figure size 100x100 with 1 Axes>"
      ]
     },
     "metadata": {},
     "output_type": "display_data"
    },
    {
     "data": {
      "image/png": "[encoded data removed]",
      "text/plain": [
       "<Figure size 100x100 with 1 Axes>"
      ]
     },
     "metadata": {},
     "output_type": "display_data"
    },
    {
     "data": {
      "image/png": "[encoded data removed]",
      "text/plain": [
       "<Figure size 100x100 with 1 Axes>"
      ]
     },
     "metadata": {},
     "output_type": "display_data"
    },
    {
     "data": {
      "image/png": "[encoded data removed]",
      "text/plain": [
       "<Figure size 100x100 with 1 Axes>"
      ]
     },
     "metadata": {},
     "output_type": "display_data"
    }
   ],
   "source": [
    "for digit in range(0, 10):\n",
    "    show_image(mean_digit_images(DataSplit.TRAINING)[digit])\n"
   ]
  },
  {
   "cell_type": "markdown",
   "metadata": {},
   "source": [
    "### Calculating how close a given digit image is from the \"ideal\", or mean image for that digit\n",
    "\n",
    "* Mean absolute difference, or L1 norm, is the mean of the absolute value of the differences between pixels.\n",
    "* Root mean square error, RMSE, or L2 norm, takes the mean of the squares of the differences and then the square root of that mean.\n",
    "  * this one penalizes larger mistakes more and smaller mistakes less"
   ]
  },
  {
   "cell_type": "code",
   "execution_count": 15,
   "metadata": {},
   "outputs": [],
   "source": [
    "def l1_norm(candidate: Tensor, ideal: Tensor) -> Tensor:\n",
    "    \"\"\"Calculates the mean of the absolute value of the differences between\n",
    "    pixels of the candidate and the \"ideal\" image tensors.\n",
    "    Returns a scalar wrapped in a rank-0 tensor.\"\"\"\n",
    "    ensure_shape(candidate, IMAGE_SHAPE)\n",
    "    ensure_shape(ideal, IMAGE_SHAPE)\n",
    "    result = (candidate - ideal).abs().mean()\n",
    "    ensure_shape(result, ())\n",
    "    return result\n",
    "\n",
    "\n",
    "def l2_norm(candidate: Tensor, ideal: Tensor) -> Tensor:\n",
    "    \"\"\"Calculates the root of the mean of the squares of the differences\n",
    "    (that is diff_tensor -> square -> mean_scalar -> sqrt)\n",
    "    between pixels of the candidate and the \"ideal\" image tensors.\n",
    "    Returns a scalar wrapped in a rank-0 tensor.\"\"\"\n",
    "    ensure_shape(candidate, IMAGE_SHAPE)\n",
    "    ensure_shape(ideal, IMAGE_SHAPE)\n",
    "    result = ((candidate - ideal) ** 2).mean().sqrt()\n",
    "    ensure_shape(result, ())\n",
    "    return result"
   ]
  },
  {
   "cell_type": "code",
   "execution_count": 16,
   "metadata": {},
   "outputs": [
    {
     "data": {
      "text/plain": [
       "[tensor(0.1074, device='mps:0'), tensor(0.1912, device='mps:0')]"
      ]
     },
     "execution_count": 16,
     "metadata": {},
     "output_type": "execute_result"
    }
   ],
   "source": [
    "[\n",
    "    norm_function(\n",
    "        get_stacked_preprocessed_digits(3, DataSplit.TRAINING)[0],\n",
    "        mean_digit_image(3, DataSplit.TRAINING),\n",
    "    )\n",
    "    for norm_function in [l1_norm, l2_norm]\n",
    "]"
   ]
  },
  {
   "cell_type": "code",
   "execution_count": 17,
   "metadata": {},
   "outputs": [],
   "source": [
    "# TODO: Consider removing check_shape\n",
    "def mnist_distance(\n",
    "    candidate_s: Tensor, ideal: Tensor, check_shape: bool = True\n",
    ") -> Tensor:\n",
    "    \"\"\"Calculates the \"distance(s)\" between a candidate image tensor OR a tensor of\n",
    "    candidate image tensors and an \"ideal\" image tensor.\n",
    "    If passed a single candidate it will return a scalar wrapped in a rank-0 tensor,\n",
    "    and if passed a tensor of candidates it will return a rank-1 tensor with the\n",
    "    corresponding distances (by broadcasting the \"ideal\" tensor.)\n",
    "    The \"distance(s)\" is/are calculated by taking the absolute difference of the pixel\n",
    "    values of candidate-ideal image pairs and calculating the mean of those pixel\n",
    "    differences, resulting in a scalar for each of the candidates.\"\"\"\n",
    "    if check_shape:\n",
    "        if candidate_s.ndim == 2:  # single image\n",
    "            ensure_shape(candidate_s, IMAGE_SHAPE)\n",
    "        else:  # many images\n",
    "            ensure_shape(candidate_s, (-1,) + IMAGE_SHAPE)\n",
    "\n",
    "    distance_s = (candidate_s - ideal).abs().mean((-1, -2))\n",
    "    # \"The tuple (-1,-2) represents a range of axes. In Python, -1 refers to the\n",
    "    # last element, and -2 refers to the second-to-last. So in this case, this\n",
    "    # tells PyTorch that we want to take the mean ranging over the values indexed\n",
    "    # by the last two axes of the tensor. The last two axes are the horizontal\n",
    "    # and vertical dimensions of an image.\"\n",
    "\n",
    "    if check_shape:\n",
    "        if candidate_s.ndim == 2:\n",
    "            # The output is a rank-0 tensor wrapping a single distance value for\n",
    "            # one image.\n",
    "            ensure_shape(distance_s, ())\n",
    "        else:\n",
    "            # The output vector has as many distance values as there are images in\n",
    "            # the input tensor.\n",
    "            ensure_shape(distance_s, (candidate_s.shape[0],))\n",
    "    return distance_s\n"
   ]
  },
  {
   "cell_type": "markdown",
   "metadata": {},
   "source": [
    "#### Distance between a three and the ideal three"
   ]
  },
  {
   "cell_type": "code",
   "execution_count": 18,
   "metadata": {},
   "outputs": [
    {
     "name": "stdout",
     "output_type": "stream",
     "text": [
      "shape: torch.Size([])\n"
     ]
    },
    {
     "data": {
      "text/plain": [
       "tensor(0.1074, device='mps:0')"
      ]
     },
     "execution_count": 18,
     "metadata": {},
     "output_type": "execute_result"
    }
   ],
   "source": [
    "_distance = mnist_distance(\n",
    "    get_stacked_preprocessed_digits(3, DataSplit.TRAINING)[0],\n",
    "    mean_digit_image(3, DataSplit.TRAINING),\n",
    ")\n",
    "print(f\"shape: {_distance.shape}\")\n",
    "_distance"
   ]
  },
  {
   "cell_type": "markdown",
   "metadata": {},
   "source": [
    "#### Distances between each of the threes and the ideal three"
   ]
  },
  {
   "cell_type": "code",
   "execution_count": 19,
   "metadata": {},
   "outputs": [
    {
     "name": "stdout",
     "output_type": "stream",
     "text": [
      "shape: torch.Size([6131])\n"
     ]
    },
    {
     "data": {
      "text/plain": [
       "tensor([0.1074, 0.1114, 0.1100,  ..., 0.1316, 0.1220, 0.1267], device='mps:0')"
      ]
     },
     "execution_count": 19,
     "metadata": {},
     "output_type": "execute_result"
    }
   ],
   "source": [
    "_distances = mnist_distance(\n",
    "    get_stacked_preprocessed_digits(3, DataSplit.TRAINING),\n",
    "    mean_digit_image(3, DataSplit.TRAINING),\n",
    ")\n",
    "print(f\"shape: {_distances.shape}\")\n",
    "_distances"
   ]
  },
  {
   "cell_type": "markdown",
   "metadata": {},
   "source": [
    "#### Distance between a concrete three and each of the ideal digits"
   ]
  },
  {
   "cell_type": "code",
   "execution_count": 20,
   "metadata": {},
   "outputs": [
    {
     "name": "stdout",
     "output_type": "stream",
     "text": [
      "shape: torch.Size([10])\n"
     ]
    },
    {
     "data": {
      "text/plain": [
       "tensor([0.1750, 0.1153, 0.1501, 0.1074, 0.1635, 0.1326, 0.1579, 0.1441, 0.1345, 0.1402], device='mps:0')"
      ]
     },
     "execution_count": 20,
     "metadata": {},
     "output_type": "execute_result"
    }
   ],
   "source": [
    "_distances = mnist_distance(\n",
    "    get_stacked_preprocessed_digits(3, DataSplit.TRAINING)[0],\n",
    "    mean_digit_images(DataSplit.TRAINING),\n",
    "    check_shape=False\n",
    ")\n",
    "print(f\"shape: {_distances.shape}\")\n",
    "_distances"
   ]
  },
  {
   "cell_type": "markdown",
   "metadata": {},
   "source": [
    "#### Distance between each of the threes and each of the ideal digits"
   ]
  },
  {
   "cell_type": "code",
   "execution_count": 21,
   "metadata": {},
   "outputs": [],
   "source": [
    "# I'm going to use this later so I'll wrap it in a function\n",
    "def calculate_distances(\n",
    "    digit: Digit, from_datasplit: DataSplit, to_ideal_digits_datasplit: DataSplit\n",
    ") -> Tensor:\n",
    "    expected_digit_count = len(get_digit_file_paths(digit, from_datasplit))\n",
    "    shaped_concrete_digits = get_stacked_preprocessed_digits(\n",
    "        digit, from_datasplit\n",
    "    ).unsqueeze(1)\n",
    "    ensure_shape(\n",
    "        shaped_concrete_digits, (expected_digit_count, 1) + IMAGE_SHAPE\n",
    "    )  # [~6K, 1, 28, 28]\n",
    "    shaped_means = mean_digit_images(DataSplit.TRAINING).unsqueeze(0)\n",
    "    ensure_shape(shaped_means, (1, 10, 28, 28))\n",
    "    distances = mnist_distance(shaped_concrete_digits, shaped_means, check_shape=False)\n",
    "    ensure_shape(distances, (expected_digit_count, 10))  # [~6K, 10]\n",
    "    return distances"
   ]
  },
  {
   "cell_type": "code",
   "execution_count": 22,
   "metadata": {},
   "outputs": [
    {
     "name": "stdout",
     "output_type": "stream",
     "text": [
      "shape: torch.Size([6131, 10])\n"
     ]
    },
    {
     "data": {
      "text/plain": [
       "tensor([[0.1750, 0.1153, 0.1501,  ..., 0.1441, 0.1345, 0.1402],\n",
       "        [0.1879, 0.1353, 0.1734,  ..., 0.1586, 0.1550, 0.1601],\n",
       "        [0.1644, 0.1433, 0.1583,  ..., 0.1541, 0.1343, 0.1580],\n",
       "        ...,\n",
       "        [0.1793, 0.1582, 0.1610,  ..., 0.1792, 0.1474, 0.1682],\n",
       "        [0.1531, 0.1253, 0.1451,  ..., 0.1548, 0.1519, 0.1636],\n",
       "        [0.1655, 0.1257, 0.1459,  ..., 0.1509, 0.1496, 0.1622]], device='mps:0')"
      ]
     },
     "execution_count": 22,
     "metadata": {},
     "output_type": "execute_result"
    }
   ],
   "source": [
    "_distances = calculate_distances(\n",
    "    digit=3,\n",
    "    from_datasplit=DataSplit.TRAINING,\n",
    "    to_ideal_digits_datasplit=DataSplit.TRAINING,\n",
    ")\n",
    "print(f\"shape: {_distances.shape}\")\n",
    "_distances"
   ]
  },
  {
   "cell_type": "markdown",
   "metadata": {},
   "source": [
    "#### Distance between each concrete digit and each of the ideal digits"
   ]
  },
  {
   "cell_type": "code",
   "execution_count": 23,
   "metadata": {},
   "outputs": [
    {
     "data": {
      "text/plain": [
       "[tensor([[0.1108, 0.1643, 0.1788,  ..., 0.1690, 0.1708, 0.1694],\n",
       "         [0.1388, 0.1526, 0.1672,  ..., 0.1497, 0.1403, 0.1419],\n",
       "         [0.1648, 0.2191, 0.2223,  ..., 0.2229, 0.1988, 0.2094],\n",
       "         ...,\n",
       "         [0.1840, 0.2321, 0.2240,  ..., 0.1964, 0.2131, 0.1986],\n",
       "         [0.1632, 0.1615, 0.1785,  ..., 0.1630, 0.1811, 0.1789],\n",
       "         [0.1759, 0.1757, 0.1972,  ..., 0.1652, 0.1886, 0.1731]], device='mps:0'),\n",
       " tensor([[0.1806, 0.0530, 0.1449,  ..., 0.1242, 0.1341, 0.1291],\n",
       "         [0.1887, 0.0601, 0.1335,  ..., 0.1253, 0.1335, 0.1288],\n",
       "         [0.1778, 0.0636, 0.1443,  ..., 0.1152, 0.1388, 0.1200],\n",
       "         ...,\n",
       "         [0.1927, 0.0658, 0.1367,  ..., 0.1443, 0.1331, 0.1428],\n",
       "         [0.1961, 0.0737, 0.1385,  ..., 0.1479, 0.1319, 0.1455],\n",
       "         [0.1890, 0.0519, 0.1433,  ..., 0.1300, 0.1319, 0.1326]], device='mps:0'),\n",
       " tensor([[0.1959, 0.1587, 0.1350,  ..., 0.1854, 0.1608, 0.1797],\n",
       "         [0.1822, 0.1275, 0.1243,  ..., 0.1417, 0.1509, 0.1457],\n",
       "         [0.1836, 0.1078, 0.1412,  ..., 0.1359, 0.1346, 0.1320],\n",
       "         ...,\n",
       "         [0.1811, 0.0936, 0.1273,  ..., 0.1224, 0.1386, 0.1273],\n",
       "         [0.1879, 0.1218, 0.1540,  ..., 0.1429, 0.1516, 0.1217],\n",
       "         [0.1857, 0.1483, 0.1375,  ..., 0.1714, 0.1507, 0.1529]], device='mps:0'),\n",
       " tensor([[0.1750, 0.1153, 0.1501,  ..., 0.1441, 0.1345, 0.1402],\n",
       "         [0.1879, 0.1353, 0.1734,  ..., 0.1586, 0.1550, 0.1601],\n",
       "         [0.1644, 0.1433, 0.1583,  ..., 0.1541, 0.1343, 0.1580],\n",
       "         ...,\n",
       "         [0.1793, 0.1582, 0.1610,  ..., 0.1792, 0.1474, 0.1682],\n",
       "         [0.1531, 0.1253, 0.1451,  ..., 0.1548, 0.1519, 0.1636],\n",
       "         [0.1655, 0.1257, 0.1459,  ..., 0.1509, 0.1496, 0.1622]], device='mps:0'),\n",
       " tensor([[0.1949, 0.1735, 0.1820,  ..., 0.1566, 0.1773, 0.1438],\n",
       "         [0.1937, 0.1187, 0.1547,  ..., 0.1246, 0.1399, 0.1068],\n",
       "         [0.1861, 0.1405, 0.1687,  ..., 0.1260, 0.1476, 0.1114],\n",
       "         ...,\n",
       "         [0.1744, 0.1544, 0.1578,  ..., 0.1480, 0.1703, 0.1458],\n",
       "         [0.2077, 0.1990, 0.1875,  ..., 0.1874, 0.2007, 0.1720],\n",
       "         [0.1846, 0.1091, 0.1520,  ..., 0.1209, 0.1360, 0.1037]], device='mps:0'),\n",
       " tensor([[0.1694, 0.1335, 0.1639,  ..., 0.1441, 0.1457, 0.1498],\n",
       "         [0.1750, 0.1136, 0.1598,  ..., 0.1337, 0.1399, 0.1228],\n",
       "         [0.1567, 0.1687, 0.1697,  ..., 0.1665, 0.1522, 0.1514],\n",
       "         ...,\n",
       "         [0.1776, 0.1142, 0.1631,  ..., 0.1352, 0.1469, 0.1370],\n",
       "         [0.1576, 0.1569, 0.1761,  ..., 0.1577, 0.1472, 0.1358],\n",
       "         [0.1765, 0.1307, 0.1801,  ..., 0.1674, 0.1425, 0.1618]], device='mps:0'),\n",
       " tensor([[0.1863, 0.1543, 0.1550,  ..., 0.1660, 0.1635, 0.1480],\n",
       "         [0.2065, 0.1619, 0.1762,  ..., 0.1782, 0.2002, 0.1865],\n",
       "         [0.1881, 0.1084, 0.1475,  ..., 0.1557, 0.1396, 0.1434],\n",
       "         ...,\n",
       "         [0.1582, 0.1454, 0.1602,  ..., 0.1693, 0.1712, 0.1604],\n",
       "         [0.1923, 0.1143, 0.1424,  ..., 0.1518, 0.1511, 0.1437],\n",
       "         [0.2009, 0.1070, 0.1451,  ..., 0.1548, 0.1446, 0.1485]], device='mps:0'),\n",
       " tensor([[0.2106, 0.1528, 0.1789,  ..., 0.1095, 0.1599, 0.1277],\n",
       "         [0.1932, 0.1550, 0.1921,  ..., 0.1304, 0.1627, 0.1452],\n",
       "         [0.1926, 0.1426, 0.1584,  ..., 0.1328, 0.1556, 0.1350],\n",
       "         ...,\n",
       "         [0.1920, 0.1280, 0.1659,  ..., 0.1147, 0.1532, 0.1363],\n",
       "         [0.1977, 0.1521, 0.1915,  ..., 0.1239, 0.1661, 0.1350],\n",
       "         [0.1718, 0.1139, 0.1594,  ..., 0.0937, 0.1409, 0.1135]], device='mps:0'),\n",
       " tensor([[0.1795, 0.1039, 0.1480,  ..., 0.1501, 0.1197, 0.1483],\n",
       "         [0.2126, 0.2042, 0.2038,  ..., 0.1984, 0.1959, 0.1949],\n",
       "         [0.1797, 0.0930, 0.1472,  ..., 0.1541, 0.1252, 0.1511],\n",
       "         ...,\n",
       "         [0.1697, 0.1016, 0.1283,  ..., 0.1339, 0.1110, 0.1262],\n",
       "         [0.1837, 0.0990, 0.1469,  ..., 0.1280, 0.1156, 0.1202],\n",
       "         [0.1942, 0.1375, 0.1563,  ..., 0.1585, 0.1399, 0.1497]], device='mps:0'),\n",
       " tensor([[0.1844, 0.1160, 0.1740,  ..., 0.1183, 0.1464, 0.1066],\n",
       "         [0.1900, 0.1493, 0.1704,  ..., 0.1286, 0.1639, 0.1185],\n",
       "         [0.1794, 0.1319, 0.1737,  ..., 0.1160, 0.1449, 0.0990],\n",
       "         ...,\n",
       "         [0.1945, 0.1497, 0.1637,  ..., 0.1321, 0.1480, 0.1070],\n",
       "         [0.1780, 0.1133, 0.1576,  ..., 0.0994, 0.1307, 0.1056],\n",
       "         [0.1794, 0.1124, 0.1508,  ..., 0.1124, 0.1256, 0.0922]], device='mps:0')]"
      ]
     },
     "execution_count": 23,
     "metadata": {},
     "output_type": "execute_result"
    }
   ],
   "source": [
    "# Will use a loop instead of broadcasting because the training sets of different\n",
    "# digits have different lengths. Alternatively I could cap all of them to the\n",
    "# same length.\n",
    "[\n",
    "    calculate_distances(\n",
    "        digit,\n",
    "        from_datasplit=DataSplit.TRAINING,\n",
    "        to_ideal_digits_datasplit=DataSplit.TRAINING\n",
    "    )\n",
    "    for digit in range(0, 10)\n",
    "]"
   ]
  },
  {
   "cell_type": "code",
   "execution_count": 24,
   "metadata": {},
   "outputs": [],
   "source": [
    "# given a concrete digit, which ideal digit is it closer to?\n",
    "def match(image: Tensor, ideals: Tensor) -> Digit:\n",
    "    ensure_shape(image, IMAGE_SHAPE)\n",
    "    ensure_shape(ideals, (10,) + IMAGE_SHAPE)\n",
    "    distances = mnist_distance(image, ideals, check_shape=False)\n",
    "    ensure_shape(distances, (10,))\n",
    "    # if there's more than one min this will produce the index of the first one\n",
    "    min_indexes = torch.argmin(distances)\n",
    "    min_index = min_indexes.item()\n",
    "    assert min_index in range(0, 10)\n",
    "    return min_index\n"
   ]
  },
  {
   "cell_type": "code",
   "execution_count": 25,
   "metadata": {},
   "outputs": [
    {
     "data": {
      "text/plain": [
       "1"
      ]
     },
     "execution_count": 25,
     "metadata": {},
     "output_type": "execute_result"
    }
   ],
   "source": [
    "match(\n",
    "    image=get_stacked_preprocessed_digits(8, DataSplit.TRAINING)[3],\n",
    "    ideals=mean_digit_images(DataSplit.TRAINING),\n",
    ")"
   ]
  },
  {
   "cell_type": "code",
   "execution_count": 26,
   "metadata": {},
   "outputs": [],
   "source": [
    "# given a tensor of stacked digit images, which ideal digit is each closer to?\n",
    "def matches_for_images(images, ideals: Tensor) -> Tensor:\n",
    "    ensure_shape(images, (-1,) + IMAGE_SHAPE)\n",
    "    image_count = images.shape[0]\n",
    "    shaped_images = images.unsqueeze(1)\n",
    "    ensure_shape(shaped_images, (image_count, 1) + IMAGE_SHAPE)\n",
    "    ensure_shape(ideals, (10,) + IMAGE_SHAPE)\n",
    "    shaped_ideals = ideals.unsqueeze(0)\n",
    "    ensure_shape(shaped_ideals, (1, 10) + IMAGE_SHAPE)\n",
    "    distances = mnist_distance(shaped_images, shaped_ideals, check_shape=False)\n",
    "    ensure_shape(distances, (image_count, 10))\n",
    "    digits = torch.argmin(distances, dim=1)\n",
    "    ensure_shape(digits, (image_count,))\n",
    "    return digits\n",
    "\n",
    "\n",
    "def matches_for_digit(\n",
    "    digit: Digit,\n",
    "    from_datasplit: DataSplit,\n",
    "    ideals_datasplit: DataSplit,\n",
    ") -> Tensor:\n",
    "    return matches_for_images(\n",
    "        images=get_stacked_preprocessed_digits(digit, from_datasplit),\n",
    "        ideals=mean_digit_images(ideals_datasplit),\n",
    "    )"
   ]
  },
  {
   "cell_type": "markdown",
   "metadata": {},
   "source": [
    "matches_for_digit(\n",
    "    3,\n",
    "    from_datasplit=DataSet.TRAINING,\n",
    "    ideals_datasplit=DataSet.TRAINING,\n",
    ")"
   ]
  },
  {
   "cell_type": "code",
   "execution_count": 27,
   "metadata": {},
   "outputs": [
    {
     "data": {
      "text/plain": [
       "tensor([ True,  True,  True,  ...,  True,  True, False], device='mps:0')"
      ]
     },
     "execution_count": 27,
     "metadata": {},
     "output_type": "execute_result"
    }
   ],
   "source": [
    "_matches_3s = matches_for_images(\n",
    "    images=get_stacked_preprocessed_digits(3, DataSplit.TRAINING),\n",
    "    ideals=mean_digit_images(DataSplit.TRAINING),\n",
    ")\n",
    "_correct_3s = _matches_3s == 3\n",
    "_correct_3s"
   ]
  },
  {
   "cell_type": "code",
   "execution_count": 28,
   "metadata": {},
   "outputs": [
    {
     "data": {
      "text/plain": [
       "tensor(0.5836, device='mps:0')"
      ]
     },
     "execution_count": 28,
     "metadata": {},
     "output_type": "execute_result"
    }
   ],
   "source": [
    "_correct_3s.float().mean()"
   ]
  },
  {
   "cell_type": "code",
   "execution_count": 29,
   "metadata": {},
   "outputs": [
    {
     "data": {
      "text/plain": [
       "[tensor([0, 5, 0,  ..., 0, 1, 7], device='mps:0'),\n",
       " tensor([1, 1, 1,  ..., 1, 1, 1], device='mps:0'),\n",
       " tensor([2, 2, 1,  ..., 1, 9, 2], device='mps:0'),\n",
       " tensor([3, 3, 3,  ..., 3, 3, 1], device='mps:0'),\n",
       " tensor([4, 9, 4,  ..., 4, 4, 4], device='mps:0'),\n",
       " tensor([5, 1, 5,  ..., 1, 5, 1], device='mps:0'),\n",
       " tensor([6, 1, 1,  ..., 6, 1, 1], device='mps:0'),\n",
       " tensor([7, 7, 7,  ..., 7, 7, 7], device='mps:0'),\n",
       " tensor([1, 3, 1,  ..., 1, 1, 1], device='mps:0'),\n",
       " tensor([9, 9, 9,  ..., 9, 7, 9], device='mps:0')]"
      ]
     },
     "execution_count": 29,
     "metadata": {},
     "output_type": "execute_result"
    }
   ],
   "source": [
    "[matches_for_digit(digit, DataSplit.TRAINING, DataSplit.TRAINING) for digit in range(0, 10)]"
   ]
  },
  {
   "cell_type": "code",
   "execution_count": 30,
   "metadata": {},
   "outputs": [],
   "source": [
    "def baseline_accuracy(\n",
    "    digit: Digit,\n",
    "    from_datasplit: DataSplit,\n",
    "    ideals_datasplit: DataSplit,\n",
    ") -> Tensor:\n",
    "    matches = matches_for_digit(digit, from_datasplit, ideals_datasplit)\n",
    "    corrects = matches == digit\n",
    "    accuracy = corrects.float().mean()\n",
    "    ensure_shape(accuracy, ())  # returns a rank-0 tensor\n",
    "    return accuracy\n",
    "\n",
    "\n",
    "def baseline_accuracies(\n",
    "    from_datasplit: DataSplit,\n",
    "    ideals_datasplit: DataSplit,\n",
    ") -> List[float]:\n",
    "    # digits have different counts of samples\n",
    "    # so this is iterated instead of broadcasted\n",
    "    return [\n",
    "        baseline_accuracy(digit, from_datasplit, ideals_datasplit).item()\n",
    "        for digit in range(0, 10)\n",
    "    ]"
   ]
  },
  {
   "cell_type": "code",
   "execution_count": 31,
   "metadata": {},
   "outputs": [
    {
     "name": "stdout",
     "output_type": "stream",
     "text": [
      "0: 0.814\n",
      "1: 0.998\n",
      "2: 0.433\n",
      "3: 0.584\n",
      "4: 0.665\n",
      "5: 0.300\n",
      "6: 0.745\n",
      "7: 0.778\n",
      "8: 0.396\n",
      "9: 0.716\n"
     ]
    }
   ],
   "source": [
    "for (i, calculate_accuracy_plain_labels) in enumerate(baseline_accuracies(DataSplit.TRAINING, DataSplit.TRAINING)):\n",
    "    print(f\"{i}: {calculate_accuracy_plain_labels:.3f}\")"
   ]
  },
  {
   "cell_type": "markdown",
   "metadata": {},
   "source": [
    "## As a linear model"
   ]
  },
  {
   "cell_type": "code",
   "execution_count": 32,
   "metadata": {},
   "outputs": [
    {
     "data": {
      "image/svg+xml": [
       "<?xml version=\"1.0\" encoding=\"UTF-8\" standalone=\"no\"?>\n",
       "<!DOCTYPE svg PUBLIC \"-//W3C//DTD SVG 1.1//EN\"\n",
       " \"http://www.w3.org/Graphics/SVG/1.1/DTD/svg11.dtd\">\n",
       "<!-- Generated by graphviz version 12.2.1 (20241206.2353)\n",
       " -->\n",
       "<!-- Title: G Pages: 1 -->\n",
       "<svg width=\"596pt\" height=\"78pt\"\n",
       " viewBox=\"0.00 0.00 596.25 78.00\" xmlns=\"http://www.w3.org/2000/svg\" xmlns:xlink=\"http://www.w3.org/1999/xlink\">\n",
       "<g id=\"graph0\" class=\"graph\" transform=\"scale(1 1) rotate(0) translate(4 74)\">\n",
       "<title>G</title>\n",
       "<polygon fill=\"white\" stroke=\"none\" points=\"-4,4 -4,-74 592.25,-74 592.25,4 -4,4\"/>\n",
       "<!-- init -->\n",
       "<g id=\"node1\" class=\"node\">\n",
       "<title>init</title>\n",
       "<ellipse fill=\"none\" stroke=\"black\" cx=\"27\" cy=\"-18\" rx=\"27\" ry=\"18\"/>\n",
       "<text text-anchor=\"middle\" x=\"27\" y=\"-12.95\" font-family=\"Times,serif\" font-size=\"14.00\">init</text>\n",
       "</g>\n",
       "<!-- predict -->\n",
       "<g id=\"node2\" class=\"node\">\n",
       "<title>predict</title>\n",
       "<ellipse fill=\"none\" stroke=\"black\" cx=\"127.51\" cy=\"-18\" rx=\"36.51\" ry=\"18\"/>\n",
       "<text text-anchor=\"middle\" x=\"127.51\" y=\"-12.95\" font-family=\"Times,serif\" font-size=\"14.00\">predict</text>\n",
       "</g>\n",
       "<!-- init&#45;&gt;predict -->\n",
       "<g id=\"edge1\" class=\"edge\">\n",
       "<title>init&#45;&gt;predict</title>\n",
       "<path fill=\"none\" stroke=\"black\" d=\"M54.4,-18C62.17,-18 70.91,-18 79.55,-18\"/>\n",
       "<polygon fill=\"black\" stroke=\"black\" points=\"79.26,-21.5 89.26,-18 79.26,-14.5 79.26,-21.5\"/>\n",
       "</g>\n",
       "<!-- loss -->\n",
       "<g id=\"node3\" class=\"node\">\n",
       "<title>loss</title>\n",
       "<ellipse fill=\"none\" stroke=\"black\" cx=\"228.02\" cy=\"-52\" rx=\"27\" ry=\"18\"/>\n",
       "<text text-anchor=\"middle\" x=\"228.02\" y=\"-46.95\" font-family=\"Times,serif\" font-size=\"14.00\">loss</text>\n",
       "</g>\n",
       "<!-- predict&#45;&gt;loss -->\n",
       "<g id=\"edge2\" class=\"edge\">\n",
       "<title>predict&#45;&gt;loss</title>\n",
       "<path fill=\"none\" stroke=\"black\" d=\"M158.06,-28.2C168.95,-31.96 181.36,-36.24 192.63,-40.13\"/>\n",
       "<polygon fill=\"black\" stroke=\"black\" points=\"191.4,-43.41 201.99,-43.36 193.68,-36.79 191.4,-43.41\"/>\n",
       "</g>\n",
       "<!-- gradient -->\n",
       "<g id=\"node4\" class=\"node\">\n",
       "<title>gradient</title>\n",
       "<ellipse fill=\"none\" stroke=\"black\" cx=\"365.13\" cy=\"-52\" rx=\"41.12\" ry=\"18\"/>\n",
       "<text text-anchor=\"middle\" x=\"365.13\" y=\"-46.95\" font-family=\"Times,serif\" font-size=\"14.00\">gradient</text>\n",
       "</g>\n",
       "<!-- loss&#45;&gt;gradient -->\n",
       "<g id=\"edge3\" class=\"edge\">\n",
       "<title>loss&#45;&gt;gradient</title>\n",
       "<path fill=\"none\" stroke=\"black\" d=\"M255.39,-52C271.56,-52 292.81,-52 312.24,-52\"/>\n",
       "<polygon fill=\"black\" stroke=\"black\" points=\"312.21,-55.5 322.21,-52 312.21,-48.5 312.21,-55.5\"/>\n",
       "</g>\n",
       "<!-- step -->\n",
       "<g id=\"node5\" class=\"node\">\n",
       "<title>step</title>\n",
       "<ellipse fill=\"none\" stroke=\"black\" cx=\"470.25\" cy=\"-18\" rx=\"27\" ry=\"18\"/>\n",
       "<text text-anchor=\"middle\" x=\"470.25\" y=\"-12.95\" font-family=\"Times,serif\" font-size=\"14.00\">step</text>\n",
       "</g>\n",
       "<!-- gradient&#45;&gt;step -->\n",
       "<g id=\"edge4\" class=\"edge\">\n",
       "<title>gradient&#45;&gt;step</title>\n",
       "<path fill=\"none\" stroke=\"black\" d=\"M398.76,-41.24C410.3,-37.44 423.3,-33.15 434.97,-29.3\"/>\n",
       "<polygon fill=\"black\" stroke=\"black\" points=\"435.82,-32.71 444.22,-26.25 433.63,-26.06 435.82,-32.71\"/>\n",
       "</g>\n",
       "<!-- step&#45;&gt;predict -->\n",
       "<g id=\"edge6\" class=\"edge\">\n",
       "<title>step&#45;&gt;predict</title>\n",
       "<path fill=\"none\" stroke=\"black\" d=\"M443.04,-18C385.63,-18 248.13,-18 175.42,-18\"/>\n",
       "<polygon fill=\"black\" stroke=\"black\" points=\"175.84,-14.5 165.84,-18 175.84,-21.5 175.84,-14.5\"/>\n",
       "<text text-anchor=\"middle\" x=\"289.52\" y=\"-21.2\" font-family=\"Times,serif\" font-size=\"14.00\">repeat</text>\n",
       "</g>\n",
       "<!-- stop -->\n",
       "<g id=\"node6\" class=\"node\">\n",
       "<title>stop</title>\n",
       "<ellipse fill=\"none\" stroke=\"black\" cx=\"561.25\" cy=\"-18\" rx=\"27\" ry=\"18\"/>\n",
       "<text text-anchor=\"middle\" x=\"561.25\" y=\"-12.95\" font-family=\"Times,serif\" font-size=\"14.00\">stop</text>\n",
       "</g>\n",
       "<!-- step&#45;&gt;stop -->\n",
       "<g id=\"edge5\" class=\"edge\">\n",
       "<title>step&#45;&gt;stop</title>\n",
       "<path fill=\"none\" stroke=\"black\" d=\"M497.47,-18C505.37,-18 514.19,-18 522.67,-18\"/>\n",
       "<polygon fill=\"black\" stroke=\"black\" points=\"522.39,-21.5 532.39,-18 522.39,-14.5 522.39,-21.5\"/>\n",
       "</g>\n",
       "</g>\n",
       "</svg>\n"
      ],
      "text/plain": [
       "<graphviz.sources.Source at 0x38b108dc0>"
      ]
     },
     "execution_count": 32,
     "metadata": {},
     "output_type": "execute_result"
    }
   ],
   "source": [
    "from fastbook import gv\n",
    "\n",
    "gv('''\n",
    "init->predict->loss->gradient->step->stop\n",
    "step->predict[label=repeat]\n",
    "''')"
   ]
  },
  {
   "cell_type": "code",
   "execution_count": 33,
   "metadata": {},
   "outputs": [
    {
     "name": "stdout",
     "output_type": "stream",
     "text": [
      "get_stacked_preprocessed_digits is running for digit: 0, split: DataSplit.TESTING\n",
      "get_stacked_preprocessed_digits is running for digit: 1, split: DataSplit.TESTING\n",
      "get_stacked_preprocessed_digits is running for digit: 2, split: DataSplit.TESTING\n",
      "get_stacked_preprocessed_digits is running for digit: 3, split: DataSplit.TESTING\n",
      "get_stacked_preprocessed_digits is running for digit: 4, split: DataSplit.TESTING\n",
      "get_stacked_preprocessed_digits is running for digit: 5, split: DataSplit.TESTING\n",
      "get_stacked_preprocessed_digits is running for digit: 6, split: DataSplit.TESTING\n",
      "get_stacked_preprocessed_digits is running for digit: 7, split: DataSplit.TESTING\n",
      "get_stacked_preprocessed_digits is running for digit: 8, split: DataSplit.TESTING\n",
      "get_stacked_preprocessed_digits is running for digit: 9, split: DataSplit.TESTING\n",
      "Training: (torch.Size([60000, 784]), torch.Size([60000]))\n",
      "Validation - testing: (torch.Size([10000, 784]), torch.Size([10000]))\n"
     ]
    }
   ],
   "source": [
    "from functools import reduce\n",
    "\n",
    "\n",
    "def labeled_data(datasplit: DataSplit) -> Tuple[Tensor, Tensor]:\n",
    "    _all_digits = range(0, 10)\n",
    "    _stacked_digits = [\n",
    "        get_stacked_preprocessed_digits(digit, datasplit) for digit in _all_digits\n",
    "    ]\n",
    "    _lengths = [len(get_digit_file_paths(digit, datasplit)) for digit in _all_digits]\n",
    "\n",
    "    train_x = torch.cat(_stacked_digits).view(-1, IMAGE_SHAPE[0] * IMAGE_SHAPE[1])\n",
    "    train_y = tensor(\n",
    "        reduce(lambda a, b: a + b, [[digit] * _lengths[digit] for digit in _all_digits]),\n",
    "        dtype=torch.int64,\n",
    "        device=device,\n",
    "    )\n",
    "    return (train_x, train_y)\n",
    "\n",
    "train_x, train_y = labeled_data(DataSplit.TRAINING)\n",
    "valid_x, valid_y = labeled_data(DataSplit.TESTING)\n",
    "print(f\"Training: {train_x.shape, train_y.shape}\")\n",
    "print(f\"Validation - testing: {valid_x.shape, valid_y.shape}\")"
   ]
  },
  {
   "cell_type": "markdown",
   "metadata": {},
   "source": [
    "A Dataset in PyTorch is required to return a tuple of (x,y) when indexed. \n",
    "It looks like this: $[(x_1,y_1), (x_2,y_2), ... (x_n,y_n)]$"
   ]
  },
  {
   "cell_type": "code",
   "execution_count": 34,
   "metadata": {},
   "outputs": [],
   "source": [
    "training_dset = list(zip(train_x, train_y))"
   ]
  },
  {
   "cell_type": "code",
   "execution_count": 35,
   "metadata": {},
   "outputs": [
    {
     "data": {
      "text/plain": [
       "(torch.Size([784]), torch.Size([]))"
      ]
     },
     "execution_count": 35,
     "metadata": {},
     "output_type": "execute_result"
    }
   ],
   "source": [
    "batch_x,batch_y = training_dset[0]\n",
    "batch_x.shape, batch_y.shape"
   ]
  },
  {
   "cell_type": "markdown",
   "metadata": {},
   "source": [
    "### Functions to initialize parameters"
   ]
  },
  {
   "cell_type": "code",
   "execution_count": 36,
   "metadata": {},
   "outputs": [],
   "source": [
    "from typing import Union\n",
    "\n",
    "from torch import SymInt\n",
    "\n",
    "\n",
    "def init_params(shape: Union[int, SymInt], std: float = 1.0) -> Tensor:\n",
    "    return (torch.randn(shape, device=device) * std).requires_grad_()\n",
    "\n",
    "# TODO: I could add a different kind of param initializer here such as Kaiming"
   ]
  },
  {
   "cell_type": "markdown",
   "metadata": {},
   "source": [
    "In the book the model has to differentiate between 2 digits, so the model has a single output. 0.0 is used as some kind of threshold: any values greater than 0 represent a prediction for one digit, the others represent the other digit. For this 2-digit model, `train_y` is a vector of 1s for one digit and 0s for the other digit. (And then unsqueezed to a second dimension of size 1).\n",
    "\n",
    "0 is at the center of the model outputs distribution, then they switch it to 0.5 (that is, all values between 0 and 1) using **sigmoid**.\n",
    "\n",
    "I want to switch the model from having one input $y_1$ (probability of input being digit a, and $y_2=1-y_1$) to 10 outputs (originally I was thinking 9 so I would calculate the 10th as $1-p(others)$, but it makes more sense to use Softmax for 10 outputs, as the probs of the 10 should add to 1)."
   ]
  },
  {
   "cell_type": "code",
   "execution_count": 37,
   "metadata": {},
   "outputs": [],
   "source": [
    "count_outputs = 10"
   ]
  },
  {
   "cell_type": "code",
   "execution_count": 38,
   "metadata": {},
   "outputs": [],
   "source": [
    "weights = init_params((IMAGE_SHAPE[0] * IMAGE_SHAPE[1], count_outputs))\n",
    "biases = init_params(count_outputs)"
   ]
  },
  {
   "cell_type": "code",
   "execution_count": 39,
   "metadata": {},
   "outputs": [
    {
     "name": "stdout",
     "output_type": "stream",
     "text": [
      "Shape of the full training data: torch.Size([60000, 784])\n",
      "Shape of the weights: torch.Size([784, 10])\n"
     ]
    }
   ],
   "source": [
    "print(f\"Shape of the full training data: {train_x.shape}\")\n",
    "print(f\"Shape of the weights: {weights.shape}\")"
   ]
  },
  {
   "cell_type": "markdown",
   "metadata": {},
   "source": [
    "### Run the model \"manually\"\n",
    "\n",
    "So I better understand the forward computation."
   ]
  },
  {
   "cell_type": "markdown",
   "metadata": {},
   "source": [
    "How I think the `batch @ weights + bias`, equation operates in a linear model with several outputs: it has 9 sets of parameters and 9 biases. So I'm imagining it's just that equation once per output probability, with the same input data, independently and in parallel."
   ]
  },
  {
   "cell_type": "markdown",
   "metadata": {},
   "source": [
    "#### Run it once for a single image"
   ]
  },
  {
   "cell_type": "code",
   "execution_count": 40,
   "metadata": {},
   "outputs": [
    {
     "name": "stdout",
     "output_type": "stream",
     "text": [
      "Shape of the first image: torch.Size([784])\n",
      "Shape of transposed weights: torch.Size([10, 784])\n",
      "Shape of element-wise multiplication: torch.Size([10, 784])\n",
      "Shape of model result: torch.Size([10])\n",
      "Model result: tensor([5.0383, 6.0956, 6.5828, 5.7916, 7.5112, 6.7692, 5.8542, 6.7100, 6.4550, 6.5091], device='mps:0', grad_fn=<AddBackward0>)\n"
     ]
    }
   ],
   "source": [
    "first_image = train_x[0]\n",
    "print(f\"Shape of the first image: {first_image.shape}\")\n",
    "\n",
    "# the T is transpose, flipping weights from [784, count_outputs] to [count_outputs, 784]\n",
    "transposed_weights = weights.T\n",
    "print(f\"Shape of transposed weights: {transposed_weights.shape}\")\n",
    "\n",
    "element_wise_product = first_image * transposed_weights\n",
    "print(f\"Shape of element-wise multiplication: {element_wise_product.shape}\")\n",
    "\n",
    "model_result = element_wise_product.sum() + biases\n",
    "print(f\"Shape of model result: {model_result.shape}\")\n",
    "print(f\"Model result: {model_result}\")"
   ]
  },
  {
   "cell_type": "markdown",
   "metadata": {},
   "source": [
    "#### Run it once for a batch data using broadcasting (no loops!)"
   ]
  },
  {
   "cell_type": "code",
   "execution_count": 41,
   "metadata": {},
   "outputs": [
    {
     "name": "stdout",
     "output_type": "stream",
     "text": [
      "Shape of batch: torch.Size([60000, 784])\n",
      "Shape of weights: torch.Size([784, 10])\n",
      "Shape of bias: torch.Size([10])\n",
      "Shape of results: torch.Size([60000, 10])\n"
     ]
    }
   ],
   "source": [
    "batch = train_x  # the whole dataset -- it still feels instantaneous\n",
    "\n",
    "print(f\"Shape of batch: {batch.shape}\")\n",
    "print(f\"Shape of weights: {weights.shape}\")\n",
    "print(f\"Shape of bias: {biases.shape}\")\n",
    "\n",
    "\n",
    "# Here is one of the two magic equations (the other one is the activation\n",
    "# function), equivalent to doing the run above but for each image in the batch\n",
    "# (in this case the full training set).\n",
    "model_result = batch @ weights + biases\n",
    "\n",
    "print(f\"Shape of results: {model_result.shape}\")"
   ]
  },
  {
   "cell_type": "markdown",
   "metadata": {},
   "source": [
    "### Model wrapped in a class"
   ]
  },
  {
   "cell_type": "code",
   "execution_count": 42,
   "metadata": {},
   "outputs": [],
   "source": [
    "# Wrapped in a class, together with its weights and biases, like models\n",
    "# in the pytorch nn package:\n",
    "\n",
    "from abc import ABC, abstractmethod\n",
    "from typing import Callable\n",
    "\n",
    "\n",
    "class Model(ABC):\n",
    "    @abstractmethod\n",
    "    def run(self, batch: Tensor) -> Tensor:\n",
    "        pass\n",
    "\n",
    "\n",
    "class LinearModel(Model):\n",
    "    def __init__(\n",
    "        self,\n",
    "        in_features: int,\n",
    "        out_features: int,\n",
    "        init_params_function: Callable[\n",
    "            [Union[int, SymInt]], Tensor\n",
    "        ],  # takes shape, returns tensor\n",
    "    ):\n",
    "        self.weights = init_params_function((in_features, out_features))\n",
    "        self.biases = init_params_function(out_features)\n",
    "\n",
    "    def run(self, batch: Tensor) -> Tensor:\n",
    "        # Apply linear transformation: batch @ weights + biases\n",
    "        linear = batch @ self.weights + self.biases\n",
    "        return linear  # return unnormalized logits\n"
   ]
  },
  {
   "cell_type": "markdown",
   "metadata": {},
   "source": [
    "This is a linear model to test some functions below:"
   ]
  },
  {
   "cell_type": "code",
   "execution_count": 43,
   "metadata": {},
   "outputs": [],
   "source": [
    "_linear_model = LinearModel(\n",
    "    in_features=IMAGE_SHAPE[0] * IMAGE_SHAPE[1],\n",
    "    out_features=count_outputs,\n",
    "    init_params_function=init_params,\n",
    ")"
   ]
  },
  {
   "cell_type": "markdown",
   "metadata": {},
   "source": [
    "### Normalizers of logits to predictions"
   ]
  },
  {
   "cell_type": "code",
   "execution_count": 44,
   "metadata": {},
   "outputs": [],
   "source": [
    "def normalize_softmax(logits: Tensor) -> Tensor:\n",
    "    \"\"\"Normalizes logits applying softmax.\n",
    "\n",
    "    Returns:\n",
    "        Tensor: A tensor of predictions with the same dimensions as the input.\n",
    "        Predictions sum 1, and equal to the probability of each class match.\n",
    "    \"\"\"\n",
    "    return torch.softmax(logits, dim=1)\n",
    "\n",
    "def normalize_log_softmax(logits: Tensor) -> Tensor:\n",
    "    \"\"\"Normalizes logits applying log softmax.\n",
    "\n",
    "    Returns:\n",
    "        Tensor: A tensor of predictions with the same dimensions as the input.\n",
    "        Predictions sum 1, and equal to the probability of each class match.\n",
    "    \"\"\"\n",
    "    return torch.log_softmax(logits, dim=1)\n"
   ]
  },
  {
   "cell_type": "markdown",
   "metadata": {},
   "source": [
    "### Functions to turn labels into targets"
   ]
  },
  {
   "cell_type": "code",
   "execution_count": 45,
   "metadata": {},
   "outputs": [],
   "source": [
    "import torch.nn.functional as F\n",
    "\n",
    "\n",
    "def encode_one_hot_targets(labels: Tensor, num_classes = 10) -> Tensor:\n",
    "    return F.one_hot(labels, num_classes).float()\n",
    "\n",
    "def pass_through_labels(labels: Tensor) -> Tensor:\n",
    "    return labels"
   ]
  },
  {
   "cell_type": "code",
   "execution_count": 46,
   "metadata": {},
   "outputs": [
    {
     "name": "stdout",
     "output_type": "stream",
     "text": [
      "tensor(0, device='mps:0')\n",
      "tensor([1., 0., 0., 0., 0., 0., 0., 0., 0., 0.], device='mps:0')\n"
     ]
    }
   ],
   "source": [
    "print(valid_y[0])\n",
    "print(encode_one_hot_targets(valid_y)[0])\n"
   ]
  },
  {
   "cell_type": "markdown",
   "metadata": {},
   "source": [
    "### Functions to validate the model"
   ]
  },
  {
   "cell_type": "code",
   "execution_count": 47,
   "metadata": {},
   "outputs": [],
   "source": [
    "def calculate_accuracy_plain_labels(preds: Tensor, labels: Tensor) -> float:\n",
    "    \"\"\"Calculates the accuracy of a matrix of predictions given a vector of labels.\n",
    "\n",
    "    Args:\n",
    "        preds (Tensor): A 2D matrix of image index to digit match likelihoods.\n",
    "        These can be logits or normalized. Just the maximum value of each row is used.\n",
    "        labels (Tensor): A 1D vector of labels corresponding to each image\n",
    "\n",
    "    Returns:\n",
    "        float: A scalar indicating the average accuracy\n",
    "    \"\"\"\n",
    "    assert preds.ndim == 2\n",
    "    ensure_shape(labels, (preds.shape[0],))\n",
    "    preds_as_digits = preds.argmax(dim=1)\n",
    "    correct = preds_as_digits == labels\n",
    "    return correct.float().mean().item()\n",
    "\n",
    "def validate_model_plain_labels(model: Model, valid_x: Tensor, valid_y: Tensor) -> float:\n",
    "    return calculate_accuracy_plain_labels(model.run(valid_x), valid_y)"
   ]
  },
  {
   "cell_type": "code",
   "execution_count": 48,
   "metadata": {},
   "outputs": [
    {
     "data": {
      "text/plain": [
       "0.09120000153779984"
      ]
     },
     "execution_count": 48,
     "metadata": {},
     "output_type": "execute_result"
    }
   ],
   "source": [
    "calculate_accuracy_plain_labels(_linear_model.run(valid_x), valid_y)"
   ]
  },
  {
   "cell_type": "markdown",
   "metadata": {},
   "source": [
    "### Functions to calculate the loss"
   ]
  },
  {
   "cell_type": "markdown",
   "metadata": {},
   "source": [
    "Even though the normalization step (such as Softmax) seems to conceptually fit better with the model, I see it being used in the loss function. I've extracted it into a normalizer."
   ]
  },
  {
   "cell_type": "code",
   "execution_count": 49,
   "metadata": {},
   "outputs": [],
   "source": [
    "def calculate_loss_plain_labels(preds: Tensor, labels: Tensor) -> Tensor:\n",
    "    # preds must be normalized\n",
    "    ensure_shape(labels, (preds.shape[0],))\n",
    "    probs_right_guesses = torch.gather(\n",
    "        preds,\n",
    "        dim=1,\n",
    "        index=labels.unsqueeze(\n",
    "            dim=1\n",
    "        ),  # unsqueeze because \"Index tensor must have the same number of dimensions as input tensor\"\n",
    "    )\n",
    "    losses = 1 - probs_right_guesses\n",
    "    return ensure_shape(losses.sum(), ())\n",
    "\n",
    "\n",
    "def calculate_loss_one_host_targets(preds: Tensor, targets: Tensor) -> Tensor:\n",
    "    # preds must be normalized\n",
    "    assert preds.shape == targets.shape\n",
    "\n",
    "    # TODO is there a more efficient way to do this?\n",
    "    probability_right_guesses = torch.where(\n",
    "        targets == 1.0, preds, torch.zeros_like(preds)\n",
    "    )\n",
    "    losses = 1 - probability_right_guesses.sum(dim=1)\n",
    "    return losses.sum()"
   ]
  },
  {
   "cell_type": "markdown",
   "metadata": {},
   "source": [
    "These two actually return the same value currently:"
   ]
  },
  {
   "cell_type": "code",
   "execution_count": 50,
   "metadata": {},
   "outputs": [
    {
     "data": {
      "text/plain": [
       "tensor(55067.4375, device='mps:0', grad_fn=<SumBackward0>)"
      ]
     },
     "execution_count": 50,
     "metadata": {},
     "output_type": "execute_result"
    }
   ],
   "source": [
    "calculate_loss_plain_labels(normalize_softmax(_linear_model.run(train_x)), train_y)"
   ]
  },
  {
   "cell_type": "code",
   "execution_count": 51,
   "metadata": {},
   "outputs": [
    {
     "data": {
      "text/plain": [
       "tensor(55067.4375, device='mps:0', grad_fn=<SumBackward0>)"
      ]
     },
     "execution_count": 51,
     "metadata": {},
     "output_type": "execute_result"
    }
   ],
   "source": [
    "calculate_loss_one_host_targets(\n",
    "    normalize_softmax(_linear_model.run(train_x)),\n",
    "    encode_one_hot_targets(train_y),\n",
    ")"
   ]
  },
  {
   "cell_type": "markdown",
   "metadata": {},
   "source": [
    "### Datasets and DataLoaders"
   ]
  },
  {
   "cell_type": "markdown",
   "metadata": {},
   "source": [
    "A collection that contains tuples of independent and dependent variables is a dataset"
   ]
  },
  {
   "cell_type": "code",
   "execution_count": 52,
   "metadata": {},
   "outputs": [],
   "source": [
    "train_dataset = list(zip(train_x, train_y))\n",
    "valid_dataset = list(zip(valid_x, valid_y))"
   ]
  },
  {
   "cell_type": "markdown",
   "metadata": {},
   "source": [
    "Take a look somewhere in a dataset:"
   ]
  },
  {
   "cell_type": "code",
   "execution_count": 53,
   "metadata": {},
   "outputs": [
    {
     "data": {
      "text/plain": [
       "tensor(6, device='mps:0')"
      ]
     },
     "execution_count": 53,
     "metadata": {},
     "output_type": "execute_result"
    },
    {
     "data": {
      "image/png": "[encoded data removed]",
      "text/plain": [
       "<Figure size 100x100 with 1 Axes>"
      ]
     },
     "metadata": {},
     "output_type": "display_data"
    }
   ],
   "source": [
    "_index = 40000\n",
    "show_image(train_dataset[_index][0].view((IMAGE_SHAPE)))\n",
    "train_dataset[_index][1]"
   ]
  },
  {
   "cell_type": "markdown",
   "metadata": {},
   "source": [
    "When we pass a dataset to a DataLoader we will get back many batches that are themselves tuples of tensors representing batches of independent and dependent variables."
   ]
  },
  {
   "cell_type": "code",
   "execution_count": 54,
   "metadata": {},
   "outputs": [],
   "source": [
    "from fastai.data.load import DataLoader\n",
    "\n",
    "# A dataloader with a tiny batch size for playing around\n",
    "train_dl = DataLoader(train_dataset, batch_size=2, shuffle=True)"
   ]
  },
  {
   "cell_type": "code",
   "execution_count": 55,
   "metadata": {},
   "outputs": [],
   "source": [
    "from fastai.basics import first\n",
    "\n",
    "first_training_batch = first(train_dl)"
   ]
  },
  {
   "cell_type": "markdown",
   "metadata": {},
   "source": [
    "Each training batch is a tuple of two tensors."
   ]
  },
  {
   "cell_type": "code",
   "execution_count": 56,
   "metadata": {},
   "outputs": [],
   "source": [
    "assert isinstance(first_training_batch, tuple), \"first_training_batch should be a tuple\"\n",
    "assert len(first_training_batch) == 2, \"first_training_batch should have length 2\""
   ]
  },
  {
   "cell_type": "markdown",
   "metadata": {},
   "source": [
    "The first element is a tensor of images and the second is a tensor of labels. Both have the same length, which corresponds to the `batch_size` passed to the `DataLoader` constructor above."
   ]
  },
  {
   "cell_type": "code",
   "execution_count": 57,
   "metadata": {},
   "outputs": [],
   "source": [
    "_images, _labels = first_training_batch"
   ]
  },
  {
   "cell_type": "code",
   "execution_count": 58,
   "metadata": {},
   "outputs": [
    {
     "data": {
      "text/plain": [
       "torch.Size([2, 784])"
      ]
     },
     "execution_count": 58,
     "metadata": {},
     "output_type": "execute_result"
    }
   ],
   "source": [
    "_images.shape"
   ]
  },
  {
   "cell_type": "code",
   "execution_count": 59,
   "metadata": {},
   "outputs": [
    {
     "data": {
      "text/plain": [
       "torch.Size([2])"
      ]
     },
     "execution_count": 59,
     "metadata": {},
     "output_type": "execute_result"
    }
   ],
   "source": [
    "_labels.shape"
   ]
  },
  {
   "cell_type": "markdown",
   "metadata": {},
   "source": [
    "The first image and label in the batch:"
   ]
  },
  {
   "cell_type": "markdown",
   "metadata": {},
   "source": [
    "Take a look into the first dataloader batch -> first image and label:"
   ]
  },
  {
   "cell_type": "code",
   "execution_count": 60,
   "metadata": {},
   "outputs": [
    {
     "data": {
      "text/plain": [
       "tensor(2, device='mps:0')"
      ]
     },
     "execution_count": 60,
     "metadata": {},
     "output_type": "execute_result"
    },
    {
     "data": {
      "image/png": "[encoded data removed]",
      "text/plain": [
       "<Figure size 100x100 with 1 Axes>"
      ]
     },
     "metadata": {},
     "output_type": "display_data"
    }
   ],
   "source": [
    "show_image(first(_images).view(IMAGE_SHAPE))\n",
    "first(_labels)"
   ]
  },
  {
   "cell_type": "markdown",
   "metadata": {},
   "source": [
    "### Training"
   ]
  },
  {
   "cell_type": "markdown",
   "metadata": {},
   "source": [
    "#### Forward pass + calc grads"
   ]
  },
  {
   "cell_type": "code",
   "execution_count": 61,
   "metadata": {},
   "outputs": [],
   "source": [
    "# Returns average loss\n",
    "def forward_pass_calc_grad(\n",
    "    batch_x: Tensor,\n",
    "    batch_y: Tensor,\n",
    "    model: Model,\n",
    "    normalize: Callable[[Tensor], Tensor],\n",
    "    loss_function: Callable[[Tensor, Tensor], Tensor],\n",
    ") -> float:\n",
    "    logits = model.run(batch_x)\n",
    "    preds = normalize(logits)\n",
    "    loss = loss_function(preds, batch_y)\n",
    "    loss.backward()\n",
    "    return loss.item()"
   ]
  },
  {
   "cell_type": "markdown",
   "metadata": {},
   "source": [
    "#### Optimizer"
   ]
  },
  {
   "cell_type": "code",
   "execution_count": 62,
   "metadata": {},
   "outputs": [],
   "source": [
    "class Optimizer:\n",
    "    def __init__(self, learning_rate: float, weights: Tensor, biases: Tensor):\n",
    "        self.learning_rate = learning_rate\n",
    "        self.weights = weights\n",
    "        self.biases = biases\n",
    "\n",
    "    def step(self):\n",
    "        # for p in self.params: p.data -= p.grad.data * self.lr\n",
    "        self.weights.data -= self.weights.grad.data * self.learning_rate\n",
    "        self.biases.data -= self.biases.grad.data * self.learning_rate\n",
    "\n",
    "    def zero_grad(self):\n",
    "        # for p in self.params: p.grad = None\n",
    "        self.weights.grad.zero_()\n",
    "        self.biases.grad.zero_()\n"
   ]
  },
  {
   "cell_type": "markdown",
   "metadata": {},
   "source": [
    "#### Cycle of training"
   ]
  },
  {
   "cell_type": "code",
   "execution_count": 179,
   "metadata": {},
   "outputs": [],
   "source": [
    "import matplotlib.pyplot as plt\n",
    "from typing import Generator\n",
    "\n",
    "# TODO: untied end: training data with labels or targets\n",
    "\n",
    "def train_model(\n",
    "    dataloader,\n",
    "    model,\n",
    "    *,\n",
    "    normalizer,\n",
    "    loss_function,\n",
    "    optimizer,\n",
    "    epochs: int,\n",
    ") -> Generator[Tuple[int, float], None, None]:\n",
    "    for epoch in range(epochs):\n",
    "        for batch_x, batch_y in dataloader:\n",
    "            forward_pass_calc_grad(\n",
    "                batch_x,\n",
    "                batch_y,\n",
    "                model,\n",
    "                normalizer,\n",
    "                loss_function,\n",
    "            )\n",
    "            optimizer.step()\n",
    "            optimizer.zero_grad()\n",
    "\n",
    "        yield epoch, validate_model_plain_labels(model, valid_x, valid_y)\n",
    "        # TODO: will this have affected the parameter grads? Significantly?\n",
    "\n",
    "\n",
    "def plot_accuracies(accuracies: List[float]) -> None:\n",
    "    plt.plot(accuracies)\n",
    "    plt.xlabel(\"Batch\")\n",
    "    plt.ylabel(\"Accuracy\")\n",
    "    plt.ylim(0, 1)\n",
    "    plt.title(\"Training Accuracy Over Batches\")\n",
    "    plt.show()\n"
   ]
  },
  {
   "cell_type": "code",
   "execution_count": 192,
   "metadata": {},
   "outputs": [],
   "source": [
    "model = LinearModel(\n",
    "    in_features=IMAGE_SHAPE[0] * IMAGE_SHAPE[1],\n",
    "    out_features=count_outputs,\n",
    "    init_params_function=init_params,\n",
    ")\n"
   ]
  },
  {
   "cell_type": "code",
   "execution_count": 193,
   "metadata": {},
   "outputs": [
    {
     "name": "stdout",
     "output_type": "stream",
     "text": [
      "Time=1.28s, epoch: 0, accuracy: 0.12729999423027039\n",
      "Time=117.93s, epoch: 100, accuracy: 0.4505000114440918\n",
      "Time=234.93s, epoch: 200, accuracy: 0.5412999987602234\n"
     ]
    }
   ],
   "source": [
    "import time\n",
    "\n",
    "start_time = time.time()\n",
    "\n",
    "train_dl = DataLoader(train_dataset, batch_size=8192, shuffle=True, device=device, pin_memory=True)\n",
    "\n",
    "accuracies = list()\n",
    "\n",
    "for epoch, acc in train_model(\n",
    "    train_dl,\n",
    "    model,\n",
    "    normalizer=normalize_softmax,\n",
    "    loss_function=calculate_loss_plain_labels,\n",
    "    optimizer=Optimizer(\n",
    "        learning_rate=1e-4,\n",
    "        weights=model.weights,\n",
    "        biases=model.biases,\n",
    "    ),\n",
    "    epochs=101,\n",
    "):\n",
    "    elapsed = time.time() - start_time\n",
    "    accuracies.append(acc)\n",
    "    if epoch % 100 == 0:\n",
    "        print(f\"Time={elapsed:.2f}s, epoch: {epoch}, accuracy: {acc}\")"
   ]
  },
  {
   "cell_type": "code",
   "execution_count": 194,
   "metadata": {},
   "outputs": [
    {
     "data": {
      "image/png": "[encoded data removed]",
      "text/plain": [
       "<Figure size 640x480 with 1 Axes>"
      ]
     },
     "metadata": {},
     "output_type": "display_data"
    }
   ],
   "source": [
    "plot_accuracies(accuracies)"
   ]
  },
  {
   "cell_type": "code",
   "execution_count": 195,
   "metadata": {},
   "outputs": [],
   "source": [
    "import os\n",
    "import platform\n",
    "\n",
    "def notify_complete(success=True):\n",
    "    \"\"\"Notify when cell execution completes\"\"\"\n",
    "    if platform.system() == 'Darwin':  # macOS\n",
    "        os.system('afplay /System/Library/Sounds/Glass.aiff')\n",
    "    else:  # Other platforms\n",
    "        print('\\a')  # ASCII bell\n",
    "\n",
    "notify_complete()"
   ]
  }
 ],
 "metadata": {
  "kernelspec": {
   "display_name": "fastbook",
   "language": "python",
   "name": "python3"
  },
  "language_info": {
   "codemirror_mode": {
    "name": "ipython",
    "version": 3
   },
   "file_extension": ".py",
   "mimetype": "text/x-python",
   "name": "python",
   "nbconvert_exporter": "python",
   "pygments_lexer": "ipython3",
   "version": "3.9.21"
  }
 },
 "nbformat": 4,
 "nbformat_minor": 2
}
